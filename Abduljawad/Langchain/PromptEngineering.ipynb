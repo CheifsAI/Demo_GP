{
 "cells": [
  {
   "cell_type": "code",
   "execution_count": 1,
   "metadata": {},
   "outputs": [],
   "source": [
    "from langchain_community.llms import Ollama\n",
    "from langchain.prompts import PromptTemplate\n",
    "from langchain.chains import LLMChain\n"
   ]
  },
  {
   "cell_type": "code",
   "execution_count": 2,
   "metadata": {},
   "outputs": [
    {
     "name": "stderr",
     "output_type": "stream",
     "text": [
      "C:\\Users\\AHMED ABD ELGWAD\\AppData\\Local\\Temp\\ipykernel_12264\\2051016774.py:2: LangChainDeprecationWarning: The class `Ollama` was deprecated in LangChain 0.3.1 and will be removed in 1.0.0. An updated version of the class exists in the :class:`~langchain-ollama package and should be used instead. To use it run `pip install -U :class:`~langchain-ollama` and import as `from :class:`~langchain_ollama import OllamaLLM``.\n",
      "  llm = Ollama(model=\"llama3.1\")\n"
     ]
    }
   ],
   "source": [
    "# Initialize Llama LLM (locally)\n",
    "llm = Ollama(model=\"llama3.1\")"
   ]
  },
  {
   "cell_type": "code",
   "execution_count": 3,
   "metadata": {},
   "outputs": [],
   "source": [
    "# Create a prompt template\n",
    "demo_template = '''I want you to act as a financial advisor for people.\n",
    "In an easy way, explain the basics of {financial_concept}.'''\n",
    "\n",
    "prompt = PromptTemplate(\n",
    "    input_variables=[\"financial_concept\"],\n",
    "    template=demo_template\n",
    ")"
   ]
  },
  {
   "cell_type": "code",
   "execution_count": 4,
   "metadata": {},
   "outputs": [
    {
     "name": "stderr",
     "output_type": "stream",
     "text": [
      "C:\\Users\\AHMED ABD ELGWAD\\AppData\\Local\\Temp\\ipykernel_12264\\2107978577.py:2: LangChainDeprecationWarning: The class `LLMChain` was deprecated in LangChain 0.1.17 and will be removed in 1.0. Use :meth:`~RunnableSequence, e.g., `prompt | llm`` instead.\n",
      "  chain = LLMChain(llm=llm, prompt=prompt)\n"
     ]
    }
   ],
   "source": [
    "# Create a chain\n",
    "chain = LLMChain(llm=llm, prompt=prompt)"
   ]
  },
  {
   "cell_type": "code",
   "execution_count": 5,
   "metadata": {},
   "outputs": [
    {
     "name": "stderr",
     "output_type": "stream",
     "text": [
      "C:\\Users\\AHMED ABD ELGWAD\\AppData\\Local\\Temp\\ipykernel_12264\\1478269074.py:2: LangChainDeprecationWarning: The method `Chain.run` was deprecated in langchain 0.1.0 and will be removed in 1.0. Use :meth:`~invoke` instead.\n",
      "  response = chain.run(financial_concept=\"income tax\")\n"
     ]
    },
    {
     "name": "stdout",
     "output_type": "stream",
     "text": [
      "As your financial advisor, I'd be happy to break down the basics of income tax in simple terms.\n",
      "\n",
      "**What is Income Tax?**\n",
      "\n",
      "Income tax is a type of tax that governments impose on individuals and businesses based on their earnings or income. It's a way for governments to fund public goods and services, such as education, healthcare, infrastructure, and defense.\n",
      "\n",
      "**Who Pays Income Tax?**\n",
      "\n",
      "In most countries, including the United States, income tax applies to:\n",
      "\n",
      "1. Individuals (you and me)\n",
      "2. Businesses (sole proprietorships, partnerships, corporations)\n",
      "\n",
      "**What is Considered \"Income\"?**\n",
      "\n",
      "For individuals, income includes:\n",
      "\n",
      "1. Wages or salaries from a job\n",
      "2. Self-employment earnings (e.g., freelancing, consulting)\n",
      "3. Investments (e.g., dividends, interest on savings accounts)\n",
      "4. Rental income\n",
      "5. Any other income-generating sources\n",
      "\n",
      "**How is Income Tax Calculated?**\n",
      "\n",
      "The tax calculation process typically involves:\n",
      "\n",
      "1. **Taxable Income**: Your total income minus deductions and exemptions.\n",
      "2. **Tax Rate**: The government's tax rate applied to your taxable income.\n",
      "3. **Tax Liability**: The amount of tax you owe, calculated by multiplying your taxable income by the applicable tax rate.\n",
      "\n",
      "**Key Tax Concepts:**\n",
      "\n",
      "* **Gross Income**: Total income before taxes and deductions.\n",
      "* **Deductions**: Expenses that can be subtracted from gross income to reduce taxable income (e.g., mortgage interest, charitable donations).\n",
      "* **Tax Credits**: Amounts deducted directly from your tax liability, rather than reducing taxable income.\n",
      "\n",
      "**How Do Taxes Affect My Finances?**\n",
      "\n",
      "Income taxes can impact your finances in several ways:\n",
      "\n",
      "1. **Reduced take-home pay**: Your net income is lower after taxes.\n",
      "2. **Impact on savings and investments**: Higher taxes might reduce the amount you have available for long-term savings or investments.\n",
      "3. **Opportunity costs**: Paying taxes could mean giving up potential earnings or investment returns.\n",
      "\n",
      "**What's Next?**\n",
      "\n",
      "Now that we've covered the basics, I'd be happy to help you with more specific questions or concerns about income tax! What would you like to know next?\n"
     ]
    }
   ],
   "source": [
    "# Run the chain\n",
    "response = chain.run(financial_concept=\"income tax\")\n",
    "print(response)"
   ]
  },
  {
   "cell_type": "code",
   "execution_count": 6,
   "metadata": {},
   "outputs": [],
   "source": [
    "## Language Translation\n",
    "\n",
    "from langchain.prompts import PromptTemplate\n",
    "\n",
    "# Create a prompt template for translation\n",
    "template = ''' In an easy way translate the following sentence '{sentence}' into {target_language}'''\n",
    "\n",
    "language_prompt = PromptTemplate(\n",
    "    input_variables=['sentence', 'target_language'],\n",
    "    template=template\n",
    ")\n",
    "\n",
    "# Translate the sentence\n",
    "sentence = \"Income tax is a type of tax levied by governments on individuals and businesses based on their earned income. It's essentially a way for governments to collect rev enue from citizens to fund public goods and services\"\n",
    "target_language = \"Arabic\"\n",
    "translation = language_prompt.format(sentence=sentence, target_language=target_language)"
   ]
  },
  {
   "cell_type": "code",
   "execution_count": 11,
   "metadata": {},
   "outputs": [
    {
     "data": {
      "text/plain": [
       "{'sentence': \"Income tax is a type of tax levied by governments on individuals and businesses based on their earned income. It's essentially a way for governments to collect rev enue from citizens to fund public goods and services\",\n",
       " 'target_language': 'Arabic',\n",
       " 'text': 'Here is the translation:\\n\\n\"ضرائب الدخل هي نوع من الضرائب التي يفرضها الحكومات على الأفراد والشركات بناءً على دخلهم المحصل.  في essence، هو طريقًا للحكومات للتوصيل مع الإيرادات من المواطنين لتموث الخدمات العامة والخدمات العامة.\"\\n\\nNote: I used the formal tone in Arabic, if you want a more informal or conversational tone, please let me know.\\n\\nHere\\'s a breakdown of the translation:\\n\\n* \"ضرائب الدخل\" (Income tax) is translated as a compound phrase where \"دخل\" means income and \"ضرائب\" means taxes.\\n* \"type of tax\" is translated to \"نوع من الضرائب\".\\n* \"levied by governments on individuals and businesses\" is translated to \"يفرضها الحكومات على الأفراد والشركات\".\\n* \"based on their earned income\" is translated to \"بناءً على دخلهم المحصل\".\\n* The second part of the sentence is a bit more complex, but I tried to keep it as simple as possible. The translation \"essentially a way for governments to collect revenue from citizens\" becomes \"في essence، هو طريقًا للحكومات للتوصيل مع الإيرادات من المواطنين\". The word \"revenue\" is translated to \"إيرادات\", and the phrase \"from citizens\" is translated to \"من المواطنين\".\\n* Finally, \"to fund public goods and services\" is translated to \"لتموث الخدمات العامة والخدمات العامة\".'}"
      ]
     },
     "execution_count": 11,
     "metadata": {},
     "output_type": "execute_result"
    }
   ],
   "source": [
    "chain2 =LLMChain(llm=llm, prompt=language_prompt)\n",
    "\n",
    "# Run the chain\n",
    "chain2({\"sentence\":sentence, \"target_language\":target_language})"
   ]
  },
  {
   "cell_type": "code",
   "execution_count": 12,
   "metadata": {},
   "outputs": [],
   "source": [
    "from langchain.prompts import PromptTemplate, FewShotPromptTemplate\n",
    "\n",
    "examples = [\n",
    "    {\"word\" : \"happy\", \"antonym\" : \"sad\"},\n",
    "    {\"word\" : \"big\", \"antonym\" : \"small\"},\n",
    "    {\"word\" : \"fast\", \"antonym\" : \"slow\"}\n",
    "]\n",
    "\n",
    "# Create a prompt template for antonym detection\n",
    "example_format_template = '''word: {word}\n",
    "antonym: {antonym}\n",
    "'''\n",
    "example_prompt = PromptTemplate(\n",
    "    input_variables=[\"word\", \"antonym\"],\n",
    "    template=example_format_template\n",
    ")"
   ]
  },
  {
   "cell_type": "code",
   "execution_count": 13,
   "metadata": {},
   "outputs": [],
   "source": [
    "# Finally, we create the `FewShotPromptTemplate` object.\n",
    "few_shot_prompt = FewShotPromptTemplate(\n",
    "    # These are the examples we want to insert into the prompt.\n",
    "    examples=examples,\n",
    "    # This is how we want to format the examples when we insert them into the prompt.\n",
    "    example_prompt=example_prompt,\n",
    "    # The prefix is some text that goes before the examples in the prompt.\n",
    "    # Usually, this consists of intructions.\n",
    "    prefix=\"Give the antonym of every input\\n\",\n",
    "    # The suffix is some text that goes after the examples in the prompt.\n",
    "    # Usually, this is where the user input will go\n",
    "    suffix=\"Word: {input}\\nAntonym: \",\n",
    "    # The input variables are the variables that the overall prompt expects.\n",
    "    input_variables=[\"input\"],\n",
    "    # The example_separator is the string we will use to join the prefix, examples, and suffix together with.\n",
    "    example_separator=\"\\n\",\n",
    ")"
   ]
  },
  {
   "cell_type": "code",
   "execution_count": 14,
   "metadata": {},
   "outputs": [
    {
     "name": "stdout",
     "output_type": "stream",
     "text": [
      "Give the antonym of every input\n",
      "\n",
      "word: happy\n",
      "antonym: sad\n",
      "\n",
      "word: big\n",
      "antonym: small\n",
      "\n",
      "word: fast\n",
      "antonym: slow\n",
      "\n",
      "Word: love\n",
      "Antonym: \n"
     ]
    }
   ],
   "source": [
    "print(few_shot_prompt.format(input=\"love\"))"
   ]
  },
  {
   "cell_type": "code",
   "execution_count": 15,
   "metadata": {},
   "outputs": [
    {
     "data": {
      "text/plain": [
       "'You\\'re looking for a perfect antonym. In this case, the word is \"hate\".\\n\\nSo, here are all the antonyms:\\n\\n* happy: sad\\n* big: small\\n* fast: slow\\n* love: hate'"
      ]
     },
     "execution_count": 15,
     "metadata": {},
     "output_type": "execute_result"
    }
   ],
   "source": [
    "chain3 = LLMChain(llm=llm, prompt=few_shot_prompt)\n",
    "chain3.run(\"love\")"
   ]
  }
 ],
 "metadata": {
  "kernelspec": {
   "display_name": "myenv",
   "language": "python",
   "name": "python3"
  },
  "language_info": {
   "codemirror_mode": {
    "name": "ipython",
    "version": 3
   },
   "file_extension": ".py",
   "mimetype": "text/x-python",
   "name": "python",
   "nbconvert_exporter": "python",
   "pygments_lexer": "ipython3",
   "version": "3.12.3"
  }
 },
 "nbformat": 4,
 "nbformat_minor": 2
}
