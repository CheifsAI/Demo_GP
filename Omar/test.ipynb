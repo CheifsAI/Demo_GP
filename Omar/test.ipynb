{
 "cells": [
  {
   "cell_type": "code",
   "execution_count": 10,
   "metadata": {},
   "outputs": [],
   "source": [
    "from langchain.prompts import PromptTemplate\n",
    "from langchain.chains import LLMChain\n",
    "from langchain_ollama import OllamaLLM\n",
    "import os\n",
    "from langchain.cache import InMemoryCache \n",
    "from langchain.globals import set_llm_cache\n",
    "llama3b = OllamaLLM(model=\"llama3.2:3b\")\n",
    "from langchain.schema.messages import HumanMessage , SystemMessage  \n",
    "from langchain.prompts import PromptTemplate\n",
    "from langchain.prompts import ChatMessagePromptTemplate\n",
    "from langchain.prompts import ChatPromptTemplate, SystemMessagePromptTemplate, HumanMessagePromptTemplate, AIMessagePromptTemplate\n",
    "\n"
   ]
  },
  {
   "cell_type": "code",
   "execution_count": 6,
   "metadata": {},
   "outputs": [],
   "source": [
    "llama3b = OllamaLLM(model=\"llama3.2:3b\")\n",
    "input=\"what are of some theories about the relationship between unemployment and inflation \"\n",
    "output=llama3b.invoke(input)"
   ]
  },
  {
   "cell_type": "code",
   "execution_count": 7,
   "metadata": {},
   "outputs": [
    {
     "name": "stdout",
     "output_type": "stream",
     "text": [
      "There are several theories that attempt to explain the relationship between unemployment and inflation. Here are some of the most influential ones:\n",
      "\n",
      "1. **Monetarist Theory**: This theory, developed by Milton Friedman, suggests that an increase in the money supply can lead to inflation, even if there is no change in employment levels. According to this view, a rise in aggregate demand due to increased money supply leads to higher prices and inflation.\n",
      "\n",
      "2. **Keynesian Cross Model**: Developed by John Maynard Keynes, this model posits that when unemployment is high, the economy is in a state of underconsumption. As people spend more, it leads to an increase in production, which in turn causes inflation. Conversely, when unemployment is low, the economy is in a state of overproduction, leading to inflation.\n",
      "\n",
      "3. **Quantity Theory of Money**: This theory suggests that there is an inverse relationship between the velocity of money and inflation. As the velocity of money increases (i.e., people spend more), it leads to higher prices and inflation.\n",
      "\n",
      "4. **Supply-Side Theory**: Developed by economists such as Paul Volcker, this theory argues that an increase in productivity and labor supply can lead to lower unemployment and inflation. When workers are more productive, businesses produce more goods and services at the same cost, leading to reduced inflation.\n",
      "\n",
      "5. **New Keynesian Model**: This model combines elements of both Keynesian and monetarist theories. It suggests that a combination of factors, including monetary policy, fiscal policy, and supply-side shocks, influence the relationship between unemployment and inflation.\n",
      "\n",
      "6. **Natural Rate Hypothesis**: This theory, developed by economists such as Robert Lucas and Edmund Phelps, posits that there is an inherent level of unemployment in the economy, known as the natural rate of unemployment. When the economy reaches this natural rate, inflation tends to rise if aggregate demand exceeds supply.\n",
      "\n",
      "7. **Animal Spirits Theory**: Developed by economist Joseph Schumpeter, this theory suggests that people's expectations and behavior can influence economic outcomes, including the relationship between unemployment and inflation.\n",
      "\n",
      "8. **Supply-Side Inflation Theory**: This theory argues that an increase in government spending or a decrease in taxes can lead to higher inflation, even if employment levels remain constant. According to this view, increased demand for goods and services due to government intervention leads to higher prices and inflation.\n",
      "\n",
      "9. **Cyclical Theory of Inflation**: Developed by economists such as Karl Marx and John Maynard Keynes, this theory suggests that inflation is a result of the business cycle, with inflation rates varying depending on the level of economic activity.\n",
      "\n",
      "10. **Stagflation Theory**: This theory proposes that high unemployment and high inflation can coexist due to supply-side shocks, such as oil price increases or global events that disrupt production. According to this view, both the labor market and commodity markets are affected simultaneously.\n",
      "\n",
      "While these theories provide some insights into the relationship between unemployment and inflation, it's essential to note that each theory has its limitations and disagreements among economists about their applicability in different economic contexts.\n"
     ]
    }
   ],
   "source": [
    "print(output)"
   ]
  },
  {
   "cell_type": "code",
   "execution_count": 15,
   "metadata": {},
   "outputs": [
    {
     "name": "stdout",
     "output_type": "stream",
     "text": [
      "There are several theoretical frameworks that attempt to explain the relationship between unemployment and inflation. Here are some of the most popular ones:\n",
      "\n",
      "1. **Keynesian Theory**: According to Keynes, when unemployment is high, aggregate demand is low, leading to deflation (a decrease in prices). As people spend more money as they look for work, aggregate demand increases, causing prices to rise (inflation).\n",
      "2. **Monetarist Theory**: Monetarists argue that inflation is primarily driven by monetary policy, particularly the growth of the money supply. When there is too much money circulating in the economy, it can lead to inflation, regardless of unemployment levels.\n",
      "3. **New Classical Theory**: New classical economists argue that inflation is caused by underlying factors such as economic growth, technological progress, and population growth. Unemployment is not a primary driver of inflation.\n",
      "4. **Supply-Side Theory**: Supply-siders believe that inflation is primarily driven by supply-side shocks, such as changes in production costs or technology, rather than demand-side factors like unemployment.\n",
      "5. **Cost-Push Theory**: This theory suggests that inflation is caused by increases in production costs, such as wages and raw materials. Unemployment can contribute to inflation if it leads to higher wages due to labor shortages or upward pressure on prices.\n",
      "6. **Demand-Pull Theory**: Demand-pull theorists argue that inflation is driven by excessive aggregate demand, which can be caused by various factors, including low unemployment rates, government spending, or monetary policy.\n",
      "7. **Phillips Curve Theory**: The Phillips curve theory suggests that there is an inverse relationship between unemployment and inflation, meaning that as unemployment falls, inflation rises, and vice versa. However, this relationship is now widely considered to have been challenged by the discovery of sticky wages and other factors.\n",
      "\n",
      "More recent theories, such as:\n",
      "\n",
      "1. **Monetary Policy Uncertainty Theory**: This theory suggests that uncertainty about future monetary policy can affect inflation expectations, leading to higher inflation even in the absence of high unemployment.\n",
      "2. **Sticky Wage Theory**: Sticky wage theorists argue that wages are not perfectly flexible and can lead to inflation when there is strong labor demand, regardless of unemployment levels.\n",
      "3. **Rise of Globalization Theory**: Some economists argue that globalization has led to a decrease in inflation expectations, making it more difficult for governments to achieve high inflation rates, even in the absence of low unemployment.\n",
      "\n",
      "These theories are not mutually exclusive, and many economists believe that the relationship between unemployment and inflation is complex and influenced by multiple factors."
     ]
    }
   ],
   "source": [
    "for chunk in llama3b.stream(input):\n",
    "    print(chunk , end=\"\", flush=True)\n"
   ]
  },
  {
   "cell_type": "code",
   "execution_count": 17,
   "metadata": {},
   "outputs": [
    {
     "name": "stdout",
     "output_type": "stream",
     "text": [
      "[\"Here are some common theories about the relationship between unemployment and inflation:\\n\\n1. **Phillips Curve Theory**: This theory, developed by Alban William Phillips in 1958, suggests that there is a trade-off between unemployment and inflation. According to the curve, as unemployment falls (i.e., more people are employed), inflation rises, and vice versa. However, this relationship is often depicted as an inverted U-shaped curve, where there is a stable point at which both unemployment and inflation are low.\\n\\n2. **Demand-Pull Inflation**: This theory suggests that inflation is caused by excessive demand for goods and services in the economy. When unemployment is low, more people have disposable income to spend on goods and services, leading to increased aggregate demand and higher prices.\\n\\n3. **Cost-Push Inflation**: This theory proposes that inflation is driven by cost increases, such as wage hikes or increases in raw materials costs. If unemployment is high, firms may be able to raise wages without a significant increase in production costs, leading to inflation.\\n\\n4. **Monetarist Theory**: Monetarists argue that the money supply and credit levels are the primary drivers of inflation. According to this theory, when unemployment is low, there is more demand for goods and services, which can lead to increased spending on consumer goods and services, causing prices to rise.\\n\\n5. **Supply-Side Inflation**: This theory suggests that inflation is caused by supply-side factors, such as technological changes or natural disasters, that reduce the availability of goods and services. When unemployment is high, there may be more workers who are not being utilized, which can lead to labor shortages and higher prices.\\n\\n6. **Stagflation Theory**: Stagflation refers to a situation in which both inflation and unemployment rise simultaneously. This theory proposes that stagflation occurs when the economy is experiencing a combination of demand-pull and supply-side shocks, leading to a perfect storm of inflation and high unemployment.\\n\\n7. **New Keynesian Inflation**: This theory suggests that inflation is driven by short-term expectations about future prices, rather than long-term fundamentals like productivity growth or resource constraints. According to this theory, when unemployment is low, workers may expect higher wages in the future, leading to higher expected inflation rates.\\n\\n8. **Real Business Cycle Theory**: This theory proposes that business cycles are driven by real shocks, such as technological changes or natural disasters, rather than monetary policy. According to this theory, when unemployment is high, it's because the economy is experiencing a downturn, and prices may rise due to reduced supply.\\n\\n9. **Rational Expectations Theory**: This theory suggests that inflation expectations are rational and reflect an accurate assessment of future price movements. According to this theory, when unemployment is low, workers may expect higher wages in the future, leading to higher expected inflation rates.\\n\\n10. **Empirical Evidence**: Many studies have tested these theories using econometric techniques, such as time-series analysis or cross-country comparisons. While there is some evidence supporting each of these theories, many researchers argue that the relationship between unemployment and inflation is more complex and nuanced than previously thought.\\n\\nIt's worth noting that these theories are not mutually exclusive, and many economists believe that a combination of factors contributes to the relationship between unemployment and inflation.\", 'A Confusion Matrix (CM) is a square table used to evaluate the performance of a classification model. It provides a clear and concise way to visualize and analyze the results of a machine learning algorithm, particularly in the context of binary classification problems.\\n\\n**What does a Confusion Matrix contain?**\\n\\nA typical Confusion Matrix has four quadrants:\\n\\n1. **True Positives (TP)**: Correctly predicted positive outcomes\\n2. **False Positives (FP)**: Incorrectly predicted positive outcomes (i.e., predicted positive, but actual negative)\\n3. **True Negatives (TN)**: Correctly predicted negative outcomes\\n4. **False Negatives (FN)**: Incorrectly predicted negative outcomes (i.e., predicted negative, but actual positive)\\n\\nEach row and column represents a category of the dataset. The values in each cell are:\\n\\n* TP: Number of true positives\\n* FP: Number of false positives\\n* TN: Number of true negatives\\n* FN: Number of false negatives\\n\\n**Example Confusion Matrix**\\n\\n|  | Predicted Positive (P) | Predicted Negative (N) |\\n| --- | --- | --- |\\n| **Actual Positive (A)** | TP | FP |\\n| **Actual Negative (B)** | FN | TN |\\n\\nIn this example, TP = True Positives, FP = False Positives, TN = True Negatives, and FN = False Negatives.\\n\\n**Interpretation of a Confusion Matrix**\\n\\nTo interpret the results of a Confusion Matrix:\\n\\n1. **Accuracy**: The overall accuracy is calculated as (TP + TN) / (TP + FP + TN + FN). This gives you an idea of how well your model performed.\\n2. **Precision**: Precision = TP / (TP + FP). A higher precision means fewer false positives.\\n3. **Recall**: Recall = TP / (TP + FN). A higher recall means more true positives.\\n4. **F1 Score**: F1 score is the harmonic mean of precision and recall.\\n\\n**Benefits of using a Confusion Matrix**\\n\\nUsing a Confusion Matrix provides several benefits:\\n\\n* Easy to visualize and interpret results\\n* Helps identify biases in the model or dataset\\n* Allows for comparison with other models or datasets\\n* Provides insights into where the model needs improvement\\n\\nIn summary, a Confusion Matrix is a useful tool for evaluating the performance of a classification model and identifying areas for improvement.']\n"
     ]
    }
   ],
   "source": [
    "print(llama3b.batch([\"what are of some theories about the relationship between unemployment and inflation \",\"what is confusion matrix\"]))"
   ]
  },
  {
   "cell_type": "code",
   "execution_count": 20,
   "metadata": {},
   "outputs": [
    {
     "name": "stdout",
     "output_type": "stream",
     "text": [
      "There are several theories that attempt to explain the relationship between unemployment and inflation. Here are some of the most influential ones:\n",
      "\n",
      "1. **Phillips Curve Theory**: This theory, developed by Alban William Phillips in 1958, suggests that a trade-off exists between unemployment and inflation. According to this theory, as unemployment falls, inflation rises, and vice versa. The curve shows an inverse relationship between the two variables.\n",
      "\n",
      "2. **Monetarist Theory**: Milton Friedman's monetarist theory proposes that inflation is primarily caused by an increase in the money supply. When the central bank prints more money, it increases the amount of money available for borrowing, leading to higher prices and inflation. This theory suggests that unemployment is not directly related to inflation.\n",
      "\n",
      "3. **Keynesian Theory**: John Maynard Keynes' theory argues that aggregate demand (AD) plays a crucial role in determining the level of employment and inflation. According to this theory, during times of high unemployment, aggregate demand is low, leading to deflation. Conversely, when aggregate demand is strong, it leads to higher inflation.\n",
      "\n",
      "4. **Supply-Side Theory**: This theory suggests that economic growth and low unemployment are driven by factors such as technological progress, human capital, and business investment. According to this theory, a decrease in unemployment does not necessarily lead to higher inflation.\n",
      "\n",
      "5. **Demand-Pull Theory**: This theory states that inflation is caused by an increase in aggregate demand, which leads to a shortage of goods and services. When the economy is growing rapidly, it can lead to higher prices due to increased demand for resources.\n",
      "\n",
      "6. **Cost Push Theory**: This theory suggests that inflation is caused by increases in production costs, such as wages or raw materials. As these costs rise, businesses pass them on to consumers through higher prices.\n",
      "\n",
      "7. **Fisher-Phillips Curve**: Robert Fisher and Alban Phillips (1953) developed this theory, which shows the relationship between unemployment and inflation as a linear function. This curve is similar to the Phillips Curve but with an upward-sloping trendline.\n",
      "\n",
      "8. **Modern Macroeconomics Theory**: Modern macroeconomic theories, such as New Classical Economics and New Keynesian Economics, argue that the relationship between unemployment and inflation is more complex than previously thought. These theories suggest that inflation is influenced by a variety of factors, including monetary policy, fiscal policy, and external shocks.\n",
      "\n",
      "9. **Animal Spirits Theory**: This theory, developed by economist Joseph Stiglitz, suggests that expectations and animal spirits play a crucial role in determining the relationship between unemployment and inflation. According to this theory, agents' expectations about future economic conditions influence their decisions, which can lead to changes in employment and inflation.\n",
      "\n",
      "10. **Distributed-Lag Theory**: This theory proposes that the effect of changes in unemployment on inflation is delayed due to the time lag between the change in unemployment and its impact on aggregate demand."
     ]
    }
   ],
   "source": [
    "import asyncio\n",
    "\n",
    "async def call_llm():\n",
    "    for chunk in llama3b.stream(input):\n",
    "        print(chunk, end=\"\", flush=True)\n",
    "\n",
    "# Directly use await in Colab\n",
    "await call_llm()\n"
   ]
  },
  {
   "cell_type": "code",
   "execution_count": 29,
   "metadata": {},
   "outputs": [
    {
     "data": {
      "text/plain": [
       "\"Here's a joke:\\n\\nWhat do you call a fake noodle?\\n\\nAn impasta.\""
      ]
     },
     "execution_count": 29,
     "metadata": {},
     "output_type": "execute_result"
    }
   ],
   "source": [
    "set_llm_cache(InMemoryCache())\n",
    "llama3b.predict(\"tell me ajoke\")"
   ]
  },
  {
   "cell_type": "code",
   "execution_count": 30,
   "metadata": {},
   "outputs": [
    {
     "data": {
      "text/plain": [
       "\"Why don't eggs tell jokes?\\n\\nBecause they'd crack each other up!\""
      ]
     },
     "execution_count": 30,
     "metadata": {},
     "output_type": "execute_result"
    }
   ],
   "source": [
    "llama3b.predict(\"tell me a joke\")"
   ]
  },
  {
   "cell_type": "code",
   "execution_count": 31,
   "metadata": {},
   "outputs": [
    {
     "data": {
      "text/plain": [
       "\"Here's one:\\n\\nWhat do you call a fake noodle?\\n\\n(Wait for it...)\\n\\nAn impasta!\""
      ]
     },
     "execution_count": 31,
     "metadata": {},
     "output_type": "execute_result"
    }
   ],
   "source": [
    "llama3b.predict(\"tell me first joke\")"
   ]
  },
  {
   "cell_type": "code",
   "execution_count": null,
   "metadata": {},
   "outputs": [],
   "source": [
    "# llama3b.save(llama3b.JSON)   عشان لو عاوزه استعمله في حطه تانيه  json كده انا حفظت الملف بامتداد \n",
    "# عشان تفتحه في مكان تاني هنستدعي سطر الكود دا\n",
    "#from langchain.llms.loading import load_llm\n",
    "#llm=load_llm(\"llm.json\")"
   ]
  },
  {
   "cell_type": "code",
   "execution_count": 2,
   "metadata": {},
   "outputs": [],
   "source": [
    "from langchain.schema.messages import HumanMessage , SystemMessage  "
   ]
  },
  {
   "cell_type": "code",
   "execution_count": 14,
   "metadata": {},
   "outputs": [
    {
     "name": "stdout",
     "output_type": "stream",
     "text": [
      "I'm happy to help you with your question.\n",
      "\n",
      "The term \"cogs\" can have different meanings depending on the context. Here are a few possible interpretations:\n",
      "\n",
      "1. **Mechanical Cog**: In mechanical terms, a cog is a toothed wheel or gear that is designed to transmit rotational motion or mechanical advantage. Cogs are commonly used in machines, gears, and other mechanical systems.\n",
      "2. **Business Terms (Cogs)**: In the context of business operations, \"cogs\" refer to the costs associated with producing and delivering goods or services. This includes direct materials costs, labor costs, overhead costs, and other expenses directly related to generating revenue.\n",
      "3. **Idiomatic Expression**: In a more figurative sense, \"cogs in a machine\" is an idiomatic expression that refers to individuals working together as part of a team or organization to achieve a common goal.\n",
      "\n",
      "Could you please provide more context or information about what you're referring to when you ask about the \"cogs\"? I'd be happy to try and help further!"
     ]
    }
   ],
   "source": [
    "from langchain.schema.messages import HumanMessage, SystemMessage  \n",
    "\n",
    "# Define messages\n",
    "messages = [\n",
    "    SystemMessage(content=\"You're a helpful in bussnies.\"),\n",
    "    HumanMessage(content=\"What is the cogs?\")\n",
    "]\n",
    "\n",
    "# Assuming `llama3b` is a model instance that supports streaming\n",
    "for chunk in llama3b.stream(messages):  # Replace `llama3b` with your actual model instance\n",
    "    print(chunk, end=\"\", flush=True)\n"
   ]
  },
  {
   "cell_type": "code",
   "execution_count": 15,
   "metadata": {},
   "outputs": [
    {
     "data": {
      "text/plain": [
       "\"Here's one:\\n\\nWhy did the chicken go to the doctor?\\n\\nBecause it had fowl breath! (get it?)\""
      ]
     },
     "execution_count": 15,
     "metadata": {},
     "output_type": "execute_result"
    }
   ],
   "source": [
    "from langchain.prompts import PromptTemplate\n",
    "Prompt_Template=PromptTemplate.from_template(\n",
    "    \"tell me {adjactive} joke about {content}\"\n",
    ")\n",
    "llama3b.invoke(Prompt_Template.format(adjactive=\"funny\" , content=\"chickens\"))"
   ]
  },
  {
   "cell_type": "code",
   "execution_count": 2,
   "metadata": {},
   "outputs": [
    {
     "ename": "AttributeError",
     "evalue": "from_messages",
     "output_type": "error",
     "traceback": [
      "\u001b[1;31m---------------------------------------------------------------------------\u001b[0m",
      "\u001b[1;31mAttributeError\u001b[0m                            Traceback (most recent call last)",
      "Cell \u001b[1;32mIn[2], line 4\u001b[0m\n\u001b[0;32m      1\u001b[0m \u001b[38;5;28;01mfrom\u001b[39;00m \u001b[38;5;21;01mlangchain\u001b[39;00m\u001b[38;5;21;01m.\u001b[39;00m\u001b[38;5;21;01mprompts\u001b[39;00m \u001b[38;5;28;01mimport\u001b[39;00m ChatMessagePromptTemplate\n\u001b[0;32m      3\u001b[0m \u001b[38;5;66;03m# Define the chat template\u001b[39;00m\n\u001b[1;32m----> 4\u001b[0m chat_template \u001b[38;5;241m=\u001b[39m \u001b[43mChatMessagePromptTemplate\u001b[49m\u001b[38;5;241;43m.\u001b[39;49m\u001b[43mfrom_messages\u001b[49m([\n\u001b[0;32m      5\u001b[0m     (\u001b[38;5;124m\"\u001b[39m\u001b[38;5;124msystem\u001b[39m\u001b[38;5;124m\"\u001b[39m, \u001b[38;5;124m\"\u001b[39m\u001b[38;5;124mYou are a helpful AI bot, and your name is \u001b[39m\u001b[38;5;132;01m{name}\u001b[39;00m\u001b[38;5;124m.\u001b[39m\u001b[38;5;124m\"\u001b[39m),\n\u001b[0;32m      6\u001b[0m     (\u001b[38;5;124m\"\u001b[39m\u001b[38;5;124mhuman\u001b[39m\u001b[38;5;124m\"\u001b[39m, \u001b[38;5;124m\"\u001b[39m\u001b[38;5;124mHello, how are you doing?\u001b[39m\u001b[38;5;124m\"\u001b[39m),\n\u001b[0;32m      7\u001b[0m     (\u001b[38;5;124m\"\u001b[39m\u001b[38;5;124mai\u001b[39m\u001b[38;5;124m\"\u001b[39m, \u001b[38;5;124m\"\u001b[39m\u001b[38;5;124mI am doing well, thanks.\u001b[39m\u001b[38;5;124m\"\u001b[39m),\n\u001b[0;32m      8\u001b[0m     (\u001b[38;5;124m\"\u001b[39m\u001b[38;5;124mhuman\u001b[39m\u001b[38;5;124m\"\u001b[39m, \u001b[38;5;124m\"\u001b[39m\u001b[38;5;132;01m{user_input}\u001b[39;00m\u001b[38;5;124m\"\u001b[39m)])\n\u001b[0;32m     10\u001b[0m \u001b[38;5;66;03m# Format the message with variables\u001b[39;00m\n\u001b[0;32m     11\u001b[0m message \u001b[38;5;241m=\u001b[39m chat_template\u001b[38;5;241m.\u001b[39mformat(name\u001b[38;5;241m=\u001b[39m\u001b[38;5;124m\"\u001b[39m\u001b[38;5;124mOmar\u001b[39m\u001b[38;5;124m\"\u001b[39m, user_input\u001b[38;5;241m=\u001b[39m\u001b[38;5;124m\"\u001b[39m\u001b[38;5;124mWhat is your name?\u001b[39m\u001b[38;5;124m\"\u001b[39m)\n",
      "File \u001b[1;32mc:\\Users\\oa196\\AppData\\Local\\Programs\\Python\\Python313\\Lib\\site-packages\\pydantic\\_internal\\_model_construction.py:320\u001b[0m, in \u001b[0;36mModelMetaclass.__getattr__\u001b[1;34m(self, item)\u001b[0m\n\u001b[0;32m    318\u001b[0m \u001b[38;5;28;01mif\u001b[39;00m private_attributes \u001b[38;5;129;01mand\u001b[39;00m item \u001b[38;5;129;01min\u001b[39;00m private_attributes:\n\u001b[0;32m    319\u001b[0m     \u001b[38;5;28;01mreturn\u001b[39;00m private_attributes[item]\n\u001b[1;32m--> 320\u001b[0m \u001b[38;5;28;01mraise\u001b[39;00m \u001b[38;5;167;01mAttributeError\u001b[39;00m(item)\n",
      "\u001b[1;31mAttributeError\u001b[0m: from_messages"
     ]
    }
   ],
   "source": [
    "from langchain.prompts import ChatMessagePromptTemplate\n",
    "\n",
    "# Define the chat template\n",
    "chat_template = ChatMessagePromptTemplate.from_messages([\n",
    "    (\"system\", \"You are a helpful AI bot, and your name is {name}.\"),\n",
    "    (\"human\", \"Hello, how are you doing?\"),\n",
    "    (\"ai\", \"I am doing well, thanks.\"),\n",
    "    (\"human\", \"{user_input}\")])\n",
    "\n",
    "# Format the message with variables\n",
    "message = chat_template.format(name=\"Omar\", user_input=\"What is your name?\")\n",
    "\n",
    "# Print the formatted message\n",
    "print(message)\n",
    "\n",
    "# Assuming `llama3b` is properly initialized\n",
    "response = llama3b.invoke(message)  # Replace with the actual method your model supports\n",
    "print(response)\n"
   ]
  },
  {
   "cell_type": "code",
   "execution_count": 24,
   "metadata": {},
   "outputs": [
    {
     "name": "stdout",
     "output_type": "stream",
     "text": [
      "Formatted Message: System: You are a helpful AI bot, and your name is Omar.\n",
      "Human: Hello, how are you doing?\n",
      "Human: What is your name?\n"
     ]
    },
    {
     "data": {
      "text/plain": [
       "\"Hello! I'm doing great, thanks for asking. My name is Omar, and I'm here to help answer any questions or provide information on a wide range of topics. How can I assist you today?\""
      ]
     },
     "execution_count": 24,
     "metadata": {},
     "output_type": "execute_result"
    }
   ],
   "source": [
    "from langchain.prompts import ChatPromptTemplate, SystemMessagePromptTemplate, HumanMessagePromptTemplate\n",
    "\n",
    "# Define individual message templates\n",
    "system_message = SystemMessagePromptTemplate.from_template(\n",
    "    \"You are a helpful AI bot, and your name is {name}.\"\n",
    ")\n",
    "human_message_1 = HumanMessagePromptTemplate.from_template(\"Hello, how are you doing?\")\n",
    "human_message_2 = HumanMessagePromptTemplate.from_template(\"{user_input}\")\n",
    "\n",
    "# Combine messages into a chat prompt template\n",
    "chat_template = ChatPromptTemplate.from_messages(\n",
    "    [system_message, human_message_1, human_message_2]\n",
    ")\n",
    "\n",
    "# Format the chat template with variables\n",
    "response = chat_template.format(name=\"Omar\", user_input=\"What is your name?\")\n",
    "print(\"Formatted Message:\", message)\n",
    "llama3b.invoke(response)\n",
    "# Assuming `llama3b` is properly initialized\n",
    "# Example placeholder for invoking the model (replace with your actual logic)\n",
    "# response = llama3b.invoke(message)  # Ensure the model supports the used method\n",
    "# print(\"Model Response:\", response)\n"
   ]
  },
  {
   "cell_type": "code",
   "execution_count": 26,
   "metadata": {},
   "outputs": [
    {
     "name": "stdout",
     "output_type": "stream",
     "text": [
      "Requirement already satisfied: langchain in c:\\users\\oa196\\appdata\\local\\programs\\python\\python313\\lib\\site-packages (0.3.9)\n",
      "Collecting langchain\n",
      "  Downloading langchain-0.3.10-py3-none-any.whl.metadata (7.1 kB)\n",
      "Requirement already satisfied: PyYAML>=5.3 in c:\\users\\oa196\\appdata\\local\\programs\\python\\python313\\lib\\site-packages (from langchain) (6.0.2)\n",
      "Requirement already satisfied: SQLAlchemy<3,>=1.4 in c:\\users\\oa196\\appdata\\local\\programs\\python\\python313\\lib\\site-packages (from langchain) (2.0.36)\n",
      "Requirement already satisfied: aiohttp<4.0.0,>=3.8.3 in c:\\users\\oa196\\appdata\\local\\programs\\python\\python313\\lib\\site-packages (from langchain) (3.11.9)\n",
      "Collecting langchain-core<0.4.0,>=0.3.22 (from langchain)\n",
      "  Downloading langchain_core-0.3.22-py3-none-any.whl.metadata (6.3 kB)\n",
      "Requirement already satisfied: langchain-text-splitters<0.4.0,>=0.3.0 in c:\\users\\oa196\\appdata\\local\\programs\\python\\python313\\lib\\site-packages (from langchain) (0.3.2)\n",
      "Requirement already satisfied: langsmith<0.2.0,>=0.1.17 in c:\\users\\oa196\\appdata\\local\\programs\\python\\python313\\lib\\site-packages (from langchain) (0.1.146)\n",
      "Requirement already satisfied: numpy<3,>=1.26.2 in c:\\users\\oa196\\appdata\\local\\programs\\python\\python313\\lib\\site-packages (from langchain) (2.1.3)\n",
      "Requirement already satisfied: pydantic<3.0.0,>=2.7.4 in c:\\users\\oa196\\appdata\\local\\programs\\python\\python313\\lib\\site-packages (from langchain) (2.10.1)\n",
      "Requirement already satisfied: requests<3,>=2 in c:\\users\\oa196\\appdata\\local\\programs\\python\\python313\\lib\\site-packages (from langchain) (2.32.3)\n",
      "Requirement already satisfied: tenacity!=8.4.0,<10,>=8.1.0 in c:\\users\\oa196\\appdata\\local\\programs\\python\\python313\\lib\\site-packages (from langchain) (9.0.0)\n",
      "Requirement already satisfied: aiohappyeyeballs>=2.3.0 in c:\\users\\oa196\\appdata\\local\\programs\\python\\python313\\lib\\site-packages (from aiohttp<4.0.0,>=3.8.3->langchain) (2.4.4)\n",
      "Requirement already satisfied: aiosignal>=1.1.2 in c:\\users\\oa196\\appdata\\local\\programs\\python\\python313\\lib\\site-packages (from aiohttp<4.0.0,>=3.8.3->langchain) (1.3.1)\n",
      "Requirement already satisfied: attrs>=17.3.0 in c:\\users\\oa196\\appdata\\local\\programs\\python\\python313\\lib\\site-packages (from aiohttp<4.0.0,>=3.8.3->langchain) (24.2.0)\n",
      "Requirement already satisfied: frozenlist>=1.1.1 in c:\\users\\oa196\\appdata\\local\\programs\\python\\python313\\lib\\site-packages (from aiohttp<4.0.0,>=3.8.3->langchain) (1.5.0)\n",
      "Requirement already satisfied: multidict<7.0,>=4.5 in c:\\users\\oa196\\appdata\\local\\programs\\python\\python313\\lib\\site-packages (from aiohttp<4.0.0,>=3.8.3->langchain) (6.1.0)\n",
      "Requirement already satisfied: propcache>=0.2.0 in c:\\users\\oa196\\appdata\\local\\programs\\python\\python313\\lib\\site-packages (from aiohttp<4.0.0,>=3.8.3->langchain) (0.2.1)\n",
      "Requirement already satisfied: yarl<2.0,>=1.17.0 in c:\\users\\oa196\\appdata\\local\\programs\\python\\python313\\lib\\site-packages (from aiohttp<4.0.0,>=3.8.3->langchain) (1.18.3)\n",
      "Requirement already satisfied: jsonpatch<2.0,>=1.33 in c:\\users\\oa196\\appdata\\local\\programs\\python\\python313\\lib\\site-packages (from langchain-core<0.4.0,>=0.3.22->langchain) (1.33)\n",
      "Requirement already satisfied: packaging<25,>=23.2 in c:\\users\\oa196\\appdata\\local\\programs\\python\\python313\\lib\\site-packages (from langchain-core<0.4.0,>=0.3.22->langchain) (24.2)\n",
      "Requirement already satisfied: typing-extensions>=4.7 in c:\\users\\oa196\\appdata\\local\\programs\\python\\python313\\lib\\site-packages (from langchain-core<0.4.0,>=0.3.22->langchain) (4.12.2)\n",
      "Requirement already satisfied: httpx<1,>=0.23.0 in c:\\users\\oa196\\appdata\\local\\programs\\python\\python313\\lib\\site-packages (from langsmith<0.2.0,>=0.1.17->langchain) (0.27.2)\n",
      "Requirement already satisfied: orjson<4.0.0,>=3.9.14 in c:\\users\\oa196\\appdata\\local\\programs\\python\\python313\\lib\\site-packages (from langsmith<0.2.0,>=0.1.17->langchain) (3.10.12)\n",
      "Requirement already satisfied: requests-toolbelt<2.0.0,>=1.0.0 in c:\\users\\oa196\\appdata\\local\\programs\\python\\python313\\lib\\site-packages (from langsmith<0.2.0,>=0.1.17->langchain) (1.0.0)\n",
      "Requirement already satisfied: annotated-types>=0.6.0 in c:\\users\\oa196\\appdata\\local\\programs\\python\\python313\\lib\\site-packages (from pydantic<3.0.0,>=2.7.4->langchain) (0.7.0)\n",
      "Requirement already satisfied: pydantic-core==2.27.1 in c:\\users\\oa196\\appdata\\local\\programs\\python\\python313\\lib\\site-packages (from pydantic<3.0.0,>=2.7.4->langchain) (2.27.1)\n",
      "Requirement already satisfied: charset-normalizer<4,>=2 in c:\\users\\oa196\\appdata\\local\\programs\\python\\python313\\lib\\site-packages (from requests<3,>=2->langchain) (3.4.0)\n",
      "Requirement already satisfied: idna<4,>=2.5 in c:\\users\\oa196\\appdata\\local\\programs\\python\\python313\\lib\\site-packages (from requests<3,>=2->langchain) (3.10)\n",
      "Requirement already satisfied: urllib3<3,>=1.21.1 in c:\\users\\oa196\\appdata\\local\\programs\\python\\python313\\lib\\site-packages (from requests<3,>=2->langchain) (2.2.3)\n",
      "Requirement already satisfied: certifi>=2017.4.17 in c:\\users\\oa196\\appdata\\local\\programs\\python\\python313\\lib\\site-packages (from requests<3,>=2->langchain) (2024.8.30)\n",
      "Requirement already satisfied: anyio in c:\\users\\oa196\\appdata\\local\\programs\\python\\python313\\lib\\site-packages (from httpx<1,>=0.23.0->langsmith<0.2.0,>=0.1.17->langchain) (4.6.2.post1)\n",
      "Requirement already satisfied: httpcore==1.* in c:\\users\\oa196\\appdata\\local\\programs\\python\\python313\\lib\\site-packages (from httpx<1,>=0.23.0->langsmith<0.2.0,>=0.1.17->langchain) (1.0.7)\n",
      "Requirement already satisfied: sniffio in c:\\users\\oa196\\appdata\\local\\programs\\python\\python313\\lib\\site-packages (from httpx<1,>=0.23.0->langsmith<0.2.0,>=0.1.17->langchain) (1.3.1)\n",
      "Requirement already satisfied: h11<0.15,>=0.13 in c:\\users\\oa196\\appdata\\local\\programs\\python\\python313\\lib\\site-packages (from httpcore==1.*->httpx<1,>=0.23.0->langsmith<0.2.0,>=0.1.17->langchain) (0.14.0)\n",
      "Requirement already satisfied: jsonpointer>=1.9 in c:\\users\\oa196\\appdata\\local\\programs\\python\\python313\\lib\\site-packages (from jsonpatch<2.0,>=1.33->langchain-core<0.4.0,>=0.3.22->langchain) (3.0.0)\n",
      "Downloading langchain-0.3.10-py3-none-any.whl (1.0 MB)\n",
      "   ---------------------------------------- 0.0/1.0 MB ? eta -:--:--\n",
      "   ---------- ----------------------------- 0.3/1.0 MB ? eta -:--:--\n",
      "   ------------------------------- -------- 0.8/1.0 MB 2.5 MB/s eta 0:00:01\n",
      "   ---------------------------------------- 1.0/1.0 MB 2.4 MB/s eta 0:00:00\n",
      "Downloading langchain_core-0.3.22-py3-none-any.whl (409 kB)\n",
      "Installing collected packages: langchain-core, langchain\n",
      "  Attempting uninstall: langchain-core\n",
      "    Found existing installation: langchain-core 0.3.21\n",
      "    Uninstalling langchain-core-0.3.21:\n",
      "      Successfully uninstalled langchain-core-0.3.21\n",
      "  Attempting uninstall: langchain\n",
      "    Found existing installation: langchain 0.3.9\n",
      "    Uninstalling langchain-0.3.9:\n",
      "      Successfully uninstalled langchain-0.3.9\n",
      "Successfully installed langchain-0.3.10 langchain-core-0.3.22\n",
      "Note: you may need to restart the kernel to use updated packages.\n"
     ]
    }
   ],
   "source": [
    "pip install --upgrade langchain\n"
   ]
  },
  {
   "cell_type": "code",
   "execution_count": null,
   "metadata": {},
   "outputs": [
    {
     "data": {
      "text/plain": [
       "\"Nice to meet you! My name is Omar, and I'm here to help answer any questions or provide information on a wide range of topics. How can I assist you today?\""
      ]
     },
     "execution_count": 8,
     "metadata": {},
     "output_type": "execute_result"
    }
   ],
   "source": [
    "from langchain.prompts import ChatPromptTemplate, SystemMessagePromptTemplate, HumanMessagePromptTemplate, AIMessagePromptTemplate\n",
    "\n",
    "# Define individual message templates\n",
    "system_message = SystemMessagePromptTemplate.from_template(\"You are a helpful AI bot, and your name is {name}.\")\n",
    "human_message_1 = HumanMessagePromptTemplate.from_template(\"Hello, how are you doing?\")\n",
    "ai_message = AIMessagePromptTemplate.from_template(\"I am doing well, thanks.\")\n",
    "human_message_2 = HumanMessagePromptTemplate.from_template(\"{user_input}\")\n",
    "\n",
    "# Combine messages into a chat prompt template\n",
    "chat_template = ChatPromptTemplate.from_messages(\n",
    "    [system_message, human_message_1, ai_message, human_message_2]\n",
    ")\n",
    "\n",
    "# Format the chat template with variables\n",
    "formatted_message = chat_template.format(name=\"Omar\", user_input=\"What is your name?\")\n",
    "\n",
    "# Print the formatted message\n",
    "llama3b.invoke(formatted_message)\n",
    "# Assuming `llama3b` is properly initialized and supports a callable interface\n",
    "# Replace `llama3b` with the actual method of your model\n",
    "# response = llama3b(formatted_message)\n",
    "# print(\"Model Response:\", response)\n"
   ]
  },
  {
   "cell_type": "code",
   "execution_count": 12,
   "metadata": {},
   "outputs": [
    {
     "ename": "TypeError",
     "evalue": "'SystemMessagePromptTemplate' object is not callable",
     "output_type": "error",
     "traceback": [
      "\u001b[1;31m---------------------------------------------------------------------------\u001b[0m",
      "\u001b[1;31mTypeError\u001b[0m                                 Traceback (most recent call last)",
      "Cell \u001b[1;32mIn[12], line 2\u001b[0m\n\u001b[0;32m      1\u001b[0m chat_template \u001b[38;5;241m=\u001b[39mChatPromptTemplate\u001b[38;5;241m.\u001b[39mfrom_messages([\n\u001b[1;32m----> 2\u001b[0m     \u001b[43msystem_message\u001b[49m\u001b[43m(\u001b[49m\n\u001b[0;32m      3\u001b[0m \u001b[43m        \u001b[49m\u001b[43mcontent\u001b[49m\u001b[38;5;241;43m=\u001b[39;49m\u001b[43m(\u001b[49m\n\u001b[0;32m      4\u001b[0m \u001b[43m            \u001b[49m\u001b[38;5;124;43m\"\u001b[39;49m\u001b[38;5;124;43myou are assistant that rewrite the user\u001b[39;49m\u001b[38;5;124;43m'\u001b[39;49m\u001b[38;5;124;43ms text to \u001b[39;49m\u001b[38;5;124;43m\"\u001b[39;49m\n\u001b[0;32m      5\u001b[0m \u001b[43m            \u001b[49m\u001b[38;5;124;43m\"\u001b[39;49m\u001b[38;5;124;43msound more upheat.\u001b[39;49m\u001b[38;5;124;43m\"\u001b[39;49m\n\u001b[0;32m      6\u001b[0m \u001b[43m        \u001b[49m\u001b[43m)\u001b[49m\n\u001b[0;32m      7\u001b[0m \u001b[43m    \u001b[49m\u001b[43m)\u001b[49m,\n\u001b[0;32m      8\u001b[0m     HumanMessagePromptTemplate\u001b[38;5;241m.\u001b[39mfrom_template({\u001b[38;5;124m\"\u001b[39m\u001b[38;5;124mtext\u001b[39m\u001b[38;5;124m\"\u001b[39m})\n\u001b[0;32m      9\u001b[0m ])\n\u001b[0;32m     10\u001b[0m llama3b(chat_template\u001b[38;5;241m.\u001b[39mformat_messages(text\u001b[38;5;241m=\u001b[39m\u001b[38;5;124m\"\u001b[39m\u001b[38;5;124mi donot like eating tasty things \u001b[39m\u001b[38;5;124m\"\u001b[39m))\n",
      "\u001b[1;31mTypeError\u001b[0m: 'SystemMessagePromptTemplate' object is not callable"
     ]
    }
   ],
   "source": [
    "chat_template =ChatPromptTemplate.from_messages([\n",
    "    system_message(\n",
    "        content=(\n",
    "            \"you are assistant that rewrite the user's text to \"\n",
    "            \"sound more upheat.\"\n",
    "        )\n",
    "    ),\n",
    "    HumanMessagePromptTemplate.from_template({\"text\"})\n",
    "])\n",
    "llama3b(chat_template.format_messages(text=\"i donot like eating tasty things \"))"
   ]
  },
  {
   "cell_type": "code",
   "execution_count": 13,
   "metadata": {},
   "outputs": [
    {
     "name": "stdout",
     "output_type": "stream",
     "text": [
      "Let me help you spin that into a positive and enthusiastic statement. Here's a rewritten version:\n",
      "\n",
      "\"I'm on a mission to savor every delicious bite - there's nothing quite like indulging in yummy treats to bring a smile to my face!\"\n"
     ]
    }
   ],
   "source": [
    "from langchain.prompts import ChatPromptTemplate, SystemMessagePromptTemplate, HumanMessagePromptTemplate\n",
    "\n",
    "# Define the system message template\n",
    "system_message = SystemMessagePromptTemplate.from_template(\n",
    "    \"You are an assistant that rewrites the user's text to sound more upbeat.\"\n",
    ")\n",
    "\n",
    "# Define the human message template (correctly pass a template with the placeholder)\n",
    "human_message = HumanMessagePromptTemplate.from_template(\"{text}\")\n",
    "\n",
    "# Create the chat prompt template by combining messages\n",
    "chat_template = ChatPromptTemplate.from_messages(\n",
    "    [system_message, human_message]\n",
    ")\n",
    "\n",
    "# Format the chat template with the input text\n",
    "formatted_message = chat_template.format_messages(text=\"I do not like eating tasty things\")\n",
    "\n",
    "# Assuming `llama3b` is initialized correctly, invoke the model\n",
    "response = llama3b.invoke(formatted_message)  # Replace with the actual method your model supports\n",
    "print(response)\n"
   ]
  },
  {
   "cell_type": "code",
   "execution_count": null,
   "metadata": {},
   "outputs": [],
   "source": []
  }
 ],
 "metadata": {
  "kernelspec": {
   "display_name": "Python 3",
   "language": "python",
   "name": "python3"
  },
  "language_info": {
   "codemirror_mode": {
    "name": "ipython",
    "version": 3
   },
   "file_extension": ".py",
   "mimetype": "text/x-python",
   "name": "python",
   "nbconvert_exporter": "python",
   "pygments_lexer": "ipython3",
   "version": "3.12.0"
  }
 },
 "nbformat": 4,
 "nbformat_minor": 2
}
