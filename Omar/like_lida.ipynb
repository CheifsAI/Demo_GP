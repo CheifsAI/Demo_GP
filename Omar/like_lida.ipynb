{
  "nbformat": 4,
  "nbformat_minor": 0,
  "metadata": {
    "colab": {
      "provenance": []
    },
    "kernelspec": {
      "name": "python3",
      "display_name": "Python 3"
    },
    "language_info": {
      "name": "python"
    }
  },
  "cells": [
    {
      "cell_type": "code",
      "source": [
        "%%writefile app.py\n",
        "import streamlit as st\n",
        "import pandas as pd\n",
        "import seaborn as sns\n",
        "import matplotlib.pyplot as plt\n",
        "from transformers import pipeline\n",
        "import base64\n",
        "from io import BytesIO\n",
        "\n",
        "# تهيئة مولد النصوص باستخدام GPT-2\n",
        "generator = pipeline('text-generation', model='gpt2')\n",
        "\n",
        "def base64_to_image(base64_string):\n",
        "    \"\"\"تحويل سلسلة base64 إلى صورة.\"\"\"\n",
        "    image = base64.b64decode(base64_string)\n",
        "    return Image.open(BytesIO(image))\n",
        "\n",
        "def generate_summary(data):\n",
        "    \"\"\"توليد ملخص للنص باستخدام نموذج GPT-2.\"\"\"\n",
        "    text = data.to_string(index=False)  # تحويل DataFrame إلى نص\n",
        "    summary = generator(text, max_length=100)[0]['generated_text']\n",
        "    return summary\n",
        "\n",
        "# واجهة المستخدم باستخدام Streamlit\n",
        "st.title(\"Data Analysis App\")\n",
        "\n",
        "# قائمة جانبية للاختيار\n",
        "menu = st.sidebar.selectbox(\"Choose an Option\", [\"Summarize\", \"Question based Graph\"])\n",
        "\n",
        "if menu == \"Summarize\":\n",
        "    st.subheader(\"Summarization of your Data\")\n",
        "    file_uploader = st.file_uploader(\"Upload your CSV\", type=\"csv\")\n",
        "    if file_uploader is not None:\n",
        "        # قراءة الملف المحمل\n",
        "        df = pd.read_csv(file_uploader)\n",
        "        st.write(\"Data Preview:\")\n",
        "        st.dataframe(df.head())  # عرض معاينة للبيانات\n",
        "\n",
        "        # توليد الملخص\n",
        "        summary = generate_summary(df)\n",
        "        st.write(\"Generated Summary:\")\n",
        "        st.write(summary)\n",
        "\n",
        "        # توليد الرسوم البيانية\n",
        "        st.subheader(\"Data Visualization\")\n",
        "        plt.figure(figsize=(10, 6))\n",
        "        sns.countplot(data=df)  # يمكنك تغيير نوع الرسم البياني حسب الحاجة\n",
        "        plt.title(\"Data Distribution\")\n",
        "        plt.xlabel(\"Categories\")\n",
        "        plt.ylabel(\"Counts\")\n",
        "        plt.tight_layout()\n",
        "\n",
        "        # حفظ الصورة كصورة base64\n",
        "        img_buf = BytesIO()\n",
        "        plt.savefig(img_buf, format='png')\n",
        "        img_buf.seek(0)\n",
        "        img_base64_string = base64.b64encode(img_buf.read()).decode('utf-8')\n",
        "        st.image(f\"data:image/png;base64,{img_base64_string}\")\n",
        "\n",
        "elif menu == \"Question based Graph\":\n",
        "    st.subheader(\"Query your Data to Generate Graph\")\n",
        "    file_uploader = st.file_uploader(\"Upload your CSV\", type=\"csv\")\n",
        "    if file_uploader is not None:\n",
        "        # قراءة الملف المحمل\n",
        "        df = pd.read_csv(file_uploader)\n",
        "        st.write(\"Data Preview:\")\n",
        "        st.dataframe(df.head())  # عرض معاينة للبيانات\n",
        "\n",
        "        text_area = st.text_area(\"Query your Data to Generate Graph\", height=200)\n",
        "        if st.button(\"Generate Graph\"):\n",
        "            if len(text_area) > 0:\n",
        "                st.info(\"Your Query: \" + text_area)\n",
        "                # توليد الرسم البياني بناءً على الاستعلام\n",
        "                plt.figure(figsize=(10, 6))\n",
        "                sns.countplot(data=df)  # يمكنك تغيير نوع الرسم البياني حسب الحاجة\n",
        "                plt.title(\"Data Distribution\")\n",
        "                plt.xlabel(\"Categories\")\n",
        "                plt.ylabel(\"Counts\")\n",
        "                plt.tight_layout()\n",
        "\n",
        "                # حفظ الصورة كصورة base64\n",
        "                img_buf = BytesIO()\n",
        "                plt.savefig(img_buf, format='png')\n",
        "                img_buf.seek(0)\n",
        "                img_base64_string = base64.b64encode(img_buf.read()).decode('utf-8')\n",
        "                st.image(f\"data:image/png;base64,{img_base64_string}\")\n"
      ],
      "metadata": {
        "colab": {
          "base_uri": "https://localhost:8080/"
        },
        "id": "CJ6qjuvssLWV",
        "outputId": "8f02e8ac-3981-4c99-c60d-dd6f5c109f74"
      },
      "execution_count": null,
      "outputs": [
        {
          "output_type": "stream",
          "name": "stdout",
          "text": [
            "Overwriting app.py\n"
          ]
        }
      ]
    },
    {
      "cell_type": "code",
      "source": [
        "\n",
        "\n",
        "# كتابة كود التطبيق\n",
        "%%writefile app.py\n",
        "import streamlit as st\n",
        "\n",
        "st.title(\"My Streamlit App\")\n",
        "st.write(\"Welcome to my app!\")\n",
        "\n",
        "# إعداد ngrok\n",
        "from pyngrok import ngrok\n",
        "\n",
        "# إضافة مفتاح ngrok\n",
        "ngrok.set_auth_token(\"2o7ilmFook6bKzGuipjbHQx7LWI_7GYfAauh1qEP8nJSceNe4\")\n",
        "\n",
        "# فتح نفق على المنفذ 8080\n",
        "public_url = ngrok.connect(8080)\n",
        "print(f\" * Ngrok tunnel \\\"{public_url}\\\" -> \\\"http://localhost:8080\\\"\")\n",
        "\n",
        "# تشغيل تطبيق Streamlit على المنفذ 8080\n",
        "!streamlit run app.py --server.port 8080 &>/dev/null &\n"
      ],
      "metadata": {
        "colab": {
          "base_uri": "https://localhost:8080/"
        },
        "id": "_dha_ExrwZP4",
        "outputId": "94d3a9ae-1ffa-45cd-8773-01a9bbb5e47c"
      },
      "execution_count": null,
      "outputs": [
        {
          "output_type": "stream",
          "name": "stdout",
          "text": [
            "Overwriting app.py\n"
          ]
        }
      ]
    },
    {
      "cell_type": "code",
      "source": [
        "from pyngrok import ngrok\n",
        "\n",
        "# تشغيل ngrok على المنفذ 8501\n",
        "public_url = ngrok.connect(8080)\n",
        "print(public_url)\n"
      ],
      "metadata": {
        "colab": {
          "base_uri": "https://localhost:8080/"
        },
        "id": "s3lMd39qx6W6",
        "outputId": "0c22002a-cdc4-4224-dd2d-1e700bd70319"
      },
      "execution_count": null,
      "outputs": [
        {
          "output_type": "stream",
          "name": "stdout",
          "text": [
            "NgrokTunnel: \"https://1ec7-34-74-97-97.ngrok-free.app\" -> \"http://localhost:8080\"\n"
          ]
        }
      ]
    },
    {
      "cell_type": "code",
      "source": [
        "# إعادة تشغيل ngrok وتطبيق Streamlit\n",
        "ngrok.kill()  # لإنهاء أي نفق موجود\n",
        "public_url = ngrok.connect(8501)  # إنشاء نفق جديد\n",
        "print(\"Public URL:\", public_url)  # طباعة الرابط الجديد\n",
        "\n",
        "# تشغيل Streamlit مرة أخرى\n",
        "!streamlit run app.py --server.port 8501 &>/dev/null &\n"
      ],
      "metadata": {
        "colab": {
          "base_uri": "https://localhost:8080/"
        },
        "id": "AuzAC7tOzBLT",
        "outputId": "1240d915-3e0c-43a6-8e0e-8b7c3511db96"
      },
      "execution_count": null,
      "outputs": [
        {
          "output_type": "stream",
          "name": "stdout",
          "text": [
            "Public URL: NgrokTunnel: \"https://7932-34-74-97-97.ngrok-free.app\" -> \"http://localhost:8501\"\n"
          ]
        }
      ]
    },
    {
      "cell_type": "code",
      "source": [
        "%%writefile app.py\n",
        "import streamlit as st\n",
        "import pandas as pd\n",
        "import seaborn as sns\n",
        "import matplotlib.pyplot as plt\n",
        "from transformers import pipeline\n",
        "import base64\n",
        "from io import BytesIO\n",
        "from PIL import Image  # استيراد مكتبة PIL\n",
        "\n",
        "# تهيئة مولد النصوص باستخدام GPT-2\n",
        "generator = pipeline('text-generation', model='gpt2')\n",
        "\n",
        "def base64_to_image(base64_string):\n",
        "    \"\"\"تحويل سلسلة base64 إلى صورة.\"\"\"\n",
        "    image = base64.b64decode(base64_string)\n",
        "    return Image.open(BytesIO(image))\n",
        "\n",
        "def generate_summary(data):\n",
        "    \"\"\"توليد ملخص للنص باستخدام نموذج GPT-2.\"\"\"\n",
        "    text = data.to_string(index=False)  # تحويل DataFrame إلى نص\n",
        "    summary = generator(text, max_length=100)[0]['generated_text']\n",
        "    return summary\n",
        "\n",
        "# واجهة المستخدم باستخدام Streamlit\n",
        "st.title(\"Data Analysis App\")\n",
        "\n",
        "# قائمة جانبية للاختيار\n",
        "menu = st.sidebar.selectbox(\"Choose an Option\", [\"Summarize\", \"Question based Graph\"])\n",
        "\n",
        "if menu == \"Summarize\":\n",
        "    st.subheader(\"Summarization of your Data\")\n",
        "    file_uploader = st.file_uploader(\"Upload your CSV\", type=\"csv\")\n",
        "    if file_uploader is not None:\n",
        "        # قراءة الملف المحمل\n",
        "        df = pd.read_csv(file_uploader)\n",
        "        st.write(\"Data Preview:\")\n",
        "        st.dataframe(df.head())  # عرض معاينة للبيانات\n",
        "\n",
        "        # توليد الملخص\n",
        "        summary = generate_summary(df)\n",
        "        st.write(\"Generated Summary:\")\n",
        "        st.write(summary)\n",
        "\n",
        "        # توليد الرسوم البيانية\n",
        "        st.subheader(\"Data Visualization\")\n",
        "        plt.figure(figsize=(10, 6))\n",
        "        sns.countplot(data=df)  # يمكنك تغيير نوع الرسم البياني حسب الحاجة\n",
        "        plt.title(\"Data Distribution\")\n",
        "        plt.xlabel(\"Categories\")\n",
        "        plt.ylabel(\"Counts\")\n",
        "        plt.tight_layout()\n",
        "\n",
        "        # حفظ الصورة كصورة base64\n",
        "        img_buf = BytesIO()\n",
        "        plt.savefig(img_buf, format='png')\n",
        "        img_buf.seek(0)\n",
        "        img_base64_string = base64.b64encode(img_buf.read()).decode('utf-8')\n",
        "        st.image(f\"data:image/png;base64,{img_base64_string}\")\n",
        "\n",
        "elif menu == \"Question based Graph\":\n",
        "    st.subheader(\"Query your Data to Generate Graph\")\n",
        "    file_uploader = st.file_uploader(\"Upload your CSV\", type=\"csv\")\n",
        "    if file_uploader is not None:\n",
        "        # قراءة الملف المحمل\n",
        "        df = pd.read_csv(file_uploader)\n",
        "        st.write(\"Data Preview:\")\n",
        "        st.dataframe(df.head())  # عرض معاينة للبيانات\n",
        "\n",
        "        text_area = st.text_area(\"Query your Data to Generate Graph\", height=200)\n",
        "        if st.button(\"Generate Graph\"):\n",
        "            if len(text_area) > 0:\n",
        "                st.info(\"Your Query: \" + text_area)\n",
        "                # توليد الرسم البياني بناءً على الاستعلام\n",
        "                plt.figure(figsize=(10, 6))\n",
        "\n",
        "                # هنا يمكنك معالجة الاستعلام وتوليد الرسم البياني المناسب\n",
        "                # مثال: يمكنك استخدام دالة eval إذا كنت تريد تقييم الاستعلام مباشرة\n",
        "                # ولكن كن حذرًا من الأمان عند استخدام eval\n",
        "\n",
        "                # توليد الرسم البياني (هذا جزء من الكود يجب تعديله حسب الاستعلام)\n",
        "                sns.countplot(data=df)  # يمكنك تغيير نوع الرسم البياني حسب الحاجة\n",
        "                plt.title(\"Data Distribution\")\n",
        "                plt.xlabel(\"Categories\")\n",
        "                plt.ylabel(\"Counts\")\n",
        "                plt.tight_layout()\n",
        "\n",
        "                # حفظ الصورة كصورة base64\n",
        "                img_buf = BytesIO()\n",
        "                plt.savefig(img_buf, format='png')\n",
        "                img_buf.seek(0)\n",
        "                img_base64_string = base64.b64encode(img_buf.read()).decode('utf-8')\n",
        "                st.image(f\"data:image/png;base64,{img_base64_string}\")\n",
        "    else:\n",
        "        st.warning(\"Please upload a CSV file to proceed.\")\n"
      ],
      "metadata": {
        "colab": {
          "base_uri": "https://localhost:8080/"
        },
        "id": "iG2gPVZ8zxrH",
        "outputId": "a97a5e9e-6566-4e16-90d0-d029ad0575e6"
      },
      "execution_count": null,
      "outputs": [
        {
          "output_type": "stream",
          "name": "stdout",
          "text": [
            "Overwriting app.py\n"
          ]
        }
      ]
    },
    {
      "cell_type": "code",
      "source": [
        "# 1. تثبيت المكتبات\n",
        "!pip install streamlit pyngrok\n",
        "\n",
        "# 2. كتابة كود التطبيق في ملف\n",
        "with open(\"app.py\", \"w\") as f:\n",
        "    f.write(\"\"\"\n",
        "import streamlit as st\n",
        "\n",
        "st.title(\"My Streamlit App\")\n",
        "st.write(\"Welcome to my app!\")\n",
        "\"\"\")\n",
        "\n",
        "# 3. إعداد ngrok وتشغيل التطبيق\n",
        "from pyngrok import ngrok\n",
        "\n",
        "# إضافة مفتاح ngrok\n",
        "ngrok.set_auth_token(\"2o7ilmFook6bKzGuipjbHQx7LWI_7GYfAauh1qEP8nJSceNe4\")\n",
        "\n",
        "# فتح نفق على المنفذ 8501\n",
        "public_url = ngrok.connect(8501)\n",
        "print(f\"Public URL: {public_url}\")\n",
        "\n",
        "# تشغيل تطبيق Streamlit\n",
        "!streamlit run app.py --server.port 8501 &>/dev/null &\n"
      ],
      "metadata": {
        "colab": {
          "base_uri": "https://localhost:8080/"
        },
        "id": "vKbIDD0dzK_B",
        "outputId": "eaeb4f11-e8ca-48f9-d690-c86898cfe3ea"
      },
      "execution_count": null,
      "outputs": [
        {
          "output_type": "stream",
          "name": "stdout",
          "text": [
            "Requirement already satisfied: streamlit in /usr/local/lib/python3.10/dist-packages (1.39.0)\n",
            "Requirement already satisfied: pyngrok in /usr/local/lib/python3.10/dist-packages (7.2.0)\n",
            "Requirement already satisfied: altair<6,>=4.0 in /usr/local/lib/python3.10/dist-packages (from streamlit) (4.2.2)\n",
            "Requirement already satisfied: blinker<2,>=1.0.0 in /usr/lib/python3/dist-packages (from streamlit) (1.4)\n",
            "Requirement already satisfied: cachetools<6,>=4.0 in /usr/local/lib/python3.10/dist-packages (from streamlit) (5.5.0)\n",
            "Requirement already satisfied: click<9,>=7.0 in /usr/local/lib/python3.10/dist-packages (from streamlit) (8.1.7)\n",
            "Requirement already satisfied: numpy<3,>=1.20 in /usr/local/lib/python3.10/dist-packages (from streamlit) (1.26.4)\n",
            "Requirement already satisfied: packaging<25,>=20 in /usr/local/lib/python3.10/dist-packages (from streamlit) (24.1)\n",
            "Requirement already satisfied: pandas<3,>=1.4.0 in /usr/local/lib/python3.10/dist-packages (from streamlit) (2.2.2)\n",
            "Requirement already satisfied: pillow<11,>=7.1.0 in /usr/local/lib/python3.10/dist-packages (from streamlit) (10.4.0)\n",
            "Requirement already satisfied: protobuf<6,>=3.20 in /usr/local/lib/python3.10/dist-packages (from streamlit) (3.20.3)\n",
            "Requirement already satisfied: pyarrow>=7.0 in /usr/local/lib/python3.10/dist-packages (from streamlit) (16.1.0)\n",
            "Requirement already satisfied: requests<3,>=2.27 in /usr/local/lib/python3.10/dist-packages (from streamlit) (2.32.3)\n",
            "Requirement already satisfied: rich<14,>=10.14.0 in /usr/local/lib/python3.10/dist-packages (from streamlit) (13.9.3)\n",
            "Requirement already satisfied: tenacity<10,>=8.1.0 in /usr/local/lib/python3.10/dist-packages (from streamlit) (9.0.0)\n",
            "Requirement already satisfied: toml<2,>=0.10.1 in /usr/local/lib/python3.10/dist-packages (from streamlit) (0.10.2)\n",
            "Requirement already satisfied: typing-extensions<5,>=4.3.0 in /usr/local/lib/python3.10/dist-packages (from streamlit) (4.12.2)\n",
            "Requirement already satisfied: gitpython!=3.1.19,<4,>=3.0.7 in /usr/local/lib/python3.10/dist-packages (from streamlit) (3.1.43)\n",
            "Requirement already satisfied: pydeck<1,>=0.8.0b4 in /usr/local/lib/python3.10/dist-packages (from streamlit) (0.9.1)\n",
            "Requirement already satisfied: tornado<7,>=6.0.3 in /usr/local/lib/python3.10/dist-packages (from streamlit) (6.3.3)\n",
            "Requirement already satisfied: watchdog<6,>=2.1.5 in /usr/local/lib/python3.10/dist-packages (from streamlit) (5.0.3)\n",
            "Requirement already satisfied: PyYAML>=5.1 in /usr/local/lib/python3.10/dist-packages (from pyngrok) (6.0.2)\n",
            "Requirement already satisfied: entrypoints in /usr/local/lib/python3.10/dist-packages (from altair<6,>=4.0->streamlit) (0.4)\n",
            "Requirement already satisfied: jinja2 in /usr/local/lib/python3.10/dist-packages (from altair<6,>=4.0->streamlit) (3.1.4)\n",
            "Requirement already satisfied: jsonschema>=3.0 in /usr/local/lib/python3.10/dist-packages (from altair<6,>=4.0->streamlit) (4.23.0)\n",
            "Requirement already satisfied: toolz in /usr/local/lib/python3.10/dist-packages (from altair<6,>=4.0->streamlit) (0.12.1)\n",
            "Requirement already satisfied: gitdb<5,>=4.0.1 in /usr/local/lib/python3.10/dist-packages (from gitpython!=3.1.19,<4,>=3.0.7->streamlit) (4.0.11)\n",
            "Requirement already satisfied: python-dateutil>=2.8.2 in /usr/local/lib/python3.10/dist-packages (from pandas<3,>=1.4.0->streamlit) (2.8.2)\n",
            "Requirement already satisfied: pytz>=2020.1 in /usr/local/lib/python3.10/dist-packages (from pandas<3,>=1.4.0->streamlit) (2024.2)\n",
            "Requirement already satisfied: tzdata>=2022.7 in /usr/local/lib/python3.10/dist-packages (from pandas<3,>=1.4.0->streamlit) (2024.2)\n",
            "Requirement already satisfied: charset-normalizer<4,>=2 in /usr/local/lib/python3.10/dist-packages (from requests<3,>=2.27->streamlit) (3.4.0)\n",
            "Requirement already satisfied: idna<4,>=2.5 in /usr/local/lib/python3.10/dist-packages (from requests<3,>=2.27->streamlit) (3.10)\n",
            "Requirement already satisfied: urllib3<3,>=1.21.1 in /usr/local/lib/python3.10/dist-packages (from requests<3,>=2.27->streamlit) (2.2.3)\n",
            "Requirement already satisfied: certifi>=2017.4.17 in /usr/local/lib/python3.10/dist-packages (from requests<3,>=2.27->streamlit) (2024.8.30)\n",
            "Requirement already satisfied: markdown-it-py>=2.2.0 in /usr/local/lib/python3.10/dist-packages (from rich<14,>=10.14.0->streamlit) (3.0.0)\n",
            "Requirement already satisfied: pygments<3.0.0,>=2.13.0 in /usr/local/lib/python3.10/dist-packages (from rich<14,>=10.14.0->streamlit) (2.18.0)\n",
            "Requirement already satisfied: smmap<6,>=3.0.1 in /usr/local/lib/python3.10/dist-packages (from gitdb<5,>=4.0.1->gitpython!=3.1.19,<4,>=3.0.7->streamlit) (5.0.1)\n",
            "Requirement already satisfied: MarkupSafe>=2.0 in /usr/local/lib/python3.10/dist-packages (from jinja2->altair<6,>=4.0->streamlit) (3.0.2)\n",
            "Requirement already satisfied: attrs>=22.2.0 in /usr/local/lib/python3.10/dist-packages (from jsonschema>=3.0->altair<6,>=4.0->streamlit) (24.2.0)\n",
            "Requirement already satisfied: jsonschema-specifications>=2023.03.6 in /usr/local/lib/python3.10/dist-packages (from jsonschema>=3.0->altair<6,>=4.0->streamlit) (2024.10.1)\n",
            "Requirement already satisfied: referencing>=0.28.4 in /usr/local/lib/python3.10/dist-packages (from jsonschema>=3.0->altair<6,>=4.0->streamlit) (0.35.1)\n",
            "Requirement already satisfied: rpds-py>=0.7.1 in /usr/local/lib/python3.10/dist-packages (from jsonschema>=3.0->altair<6,>=4.0->streamlit) (0.20.0)\n",
            "Requirement already satisfied: mdurl~=0.1 in /usr/local/lib/python3.10/dist-packages (from markdown-it-py>=2.2.0->rich<14,>=10.14.0->streamlit) (0.1.2)\n",
            "Requirement already satisfied: six>=1.5 in /usr/local/lib/python3.10/dist-packages (from python-dateutil>=2.8.2->pandas<3,>=1.4.0->streamlit) (1.16.0)\n",
            "Public URL: NgrokTunnel: \"https://7023-34-74-97-97.ngrok-free.app\" -> \"http://localhost:8501\"\n"
          ]
        }
      ]
    },
    {
      "cell_type": "code",
      "source": [
        "!pip install streamlit pyngrok\n"
      ],
      "metadata": {
        "colab": {
          "base_uri": "https://localhost:8080/"
        },
        "id": "uE_a4KA5v-IX",
        "outputId": "74e15829-b189-4af5-ace3-7d9301bb958d"
      },
      "execution_count": null,
      "outputs": [
        {
          "output_type": "stream",
          "name": "stdout",
          "text": [
            "Requirement already satisfied: streamlit in /usr/local/lib/python3.10/dist-packages (1.39.0)\n",
            "Requirement already satisfied: pyngrok in /usr/local/lib/python3.10/dist-packages (7.2.0)\n",
            "Requirement already satisfied: altair<6,>=4.0 in /usr/local/lib/python3.10/dist-packages (from streamlit) (4.2.2)\n",
            "Requirement already satisfied: blinker<2,>=1.0.0 in /usr/lib/python3/dist-packages (from streamlit) (1.4)\n",
            "Requirement already satisfied: cachetools<6,>=4.0 in /usr/local/lib/python3.10/dist-packages (from streamlit) (5.5.0)\n",
            "Requirement already satisfied: click<9,>=7.0 in /usr/local/lib/python3.10/dist-packages (from streamlit) (8.1.7)\n",
            "Requirement already satisfied: numpy<3,>=1.20 in /usr/local/lib/python3.10/dist-packages (from streamlit) (1.26.4)\n",
            "Requirement already satisfied: packaging<25,>=20 in /usr/local/lib/python3.10/dist-packages (from streamlit) (24.1)\n",
            "Requirement already satisfied: pandas<3,>=1.4.0 in /usr/local/lib/python3.10/dist-packages (from streamlit) (2.2.2)\n",
            "Requirement already satisfied: pillow<11,>=7.1.0 in /usr/local/lib/python3.10/dist-packages (from streamlit) (10.4.0)\n",
            "Requirement already satisfied: protobuf<6,>=3.20 in /usr/local/lib/python3.10/dist-packages (from streamlit) (3.20.3)\n",
            "Requirement already satisfied: pyarrow>=7.0 in /usr/local/lib/python3.10/dist-packages (from streamlit) (16.1.0)\n",
            "Requirement already satisfied: requests<3,>=2.27 in /usr/local/lib/python3.10/dist-packages (from streamlit) (2.32.3)\n",
            "Requirement already satisfied: rich<14,>=10.14.0 in /usr/local/lib/python3.10/dist-packages (from streamlit) (13.9.3)\n",
            "Requirement already satisfied: tenacity<10,>=8.1.0 in /usr/local/lib/python3.10/dist-packages (from streamlit) (9.0.0)\n",
            "Requirement already satisfied: toml<2,>=0.10.1 in /usr/local/lib/python3.10/dist-packages (from streamlit) (0.10.2)\n",
            "Requirement already satisfied: typing-extensions<5,>=4.3.0 in /usr/local/lib/python3.10/dist-packages (from streamlit) (4.12.2)\n",
            "Requirement already satisfied: gitpython!=3.1.19,<4,>=3.0.7 in /usr/local/lib/python3.10/dist-packages (from streamlit) (3.1.43)\n",
            "Requirement already satisfied: pydeck<1,>=0.8.0b4 in /usr/local/lib/python3.10/dist-packages (from streamlit) (0.9.1)\n",
            "Requirement already satisfied: tornado<7,>=6.0.3 in /usr/local/lib/python3.10/dist-packages (from streamlit) (6.3.3)\n",
            "Requirement already satisfied: watchdog<6,>=2.1.5 in /usr/local/lib/python3.10/dist-packages (from streamlit) (5.0.3)\n",
            "Requirement already satisfied: PyYAML>=5.1 in /usr/local/lib/python3.10/dist-packages (from pyngrok) (6.0.2)\n",
            "Requirement already satisfied: entrypoints in /usr/local/lib/python3.10/dist-packages (from altair<6,>=4.0->streamlit) (0.4)\n",
            "Requirement already satisfied: jinja2 in /usr/local/lib/python3.10/dist-packages (from altair<6,>=4.0->streamlit) (3.1.4)\n",
            "Requirement already satisfied: jsonschema>=3.0 in /usr/local/lib/python3.10/dist-packages (from altair<6,>=4.0->streamlit) (4.23.0)\n",
            "Requirement already satisfied: toolz in /usr/local/lib/python3.10/dist-packages (from altair<6,>=4.0->streamlit) (0.12.1)\n",
            "Requirement already satisfied: gitdb<5,>=4.0.1 in /usr/local/lib/python3.10/dist-packages (from gitpython!=3.1.19,<4,>=3.0.7->streamlit) (4.0.11)\n",
            "Requirement already satisfied: python-dateutil>=2.8.2 in /usr/local/lib/python3.10/dist-packages (from pandas<3,>=1.4.0->streamlit) (2.8.2)\n",
            "Requirement already satisfied: pytz>=2020.1 in /usr/local/lib/python3.10/dist-packages (from pandas<3,>=1.4.0->streamlit) (2024.2)\n",
            "Requirement already satisfied: tzdata>=2022.7 in /usr/local/lib/python3.10/dist-packages (from pandas<3,>=1.4.0->streamlit) (2024.2)\n",
            "Requirement already satisfied: charset-normalizer<4,>=2 in /usr/local/lib/python3.10/dist-packages (from requests<3,>=2.27->streamlit) (3.4.0)\n",
            "Requirement already satisfied: idna<4,>=2.5 in /usr/local/lib/python3.10/dist-packages (from requests<3,>=2.27->streamlit) (3.10)\n",
            "Requirement already satisfied: urllib3<3,>=1.21.1 in /usr/local/lib/python3.10/dist-packages (from requests<3,>=2.27->streamlit) (2.2.3)\n",
            "Requirement already satisfied: certifi>=2017.4.17 in /usr/local/lib/python3.10/dist-packages (from requests<3,>=2.27->streamlit) (2024.8.30)\n",
            "Requirement already satisfied: markdown-it-py>=2.2.0 in /usr/local/lib/python3.10/dist-packages (from rich<14,>=10.14.0->streamlit) (3.0.0)\n",
            "Requirement already satisfied: pygments<3.0.0,>=2.13.0 in /usr/local/lib/python3.10/dist-packages (from rich<14,>=10.14.0->streamlit) (2.18.0)\n",
            "Requirement already satisfied: smmap<6,>=3.0.1 in /usr/local/lib/python3.10/dist-packages (from gitdb<5,>=4.0.1->gitpython!=3.1.19,<4,>=3.0.7->streamlit) (5.0.1)\n",
            "Requirement already satisfied: MarkupSafe>=2.0 in /usr/local/lib/python3.10/dist-packages (from jinja2->altair<6,>=4.0->streamlit) (3.0.2)\n",
            "Requirement already satisfied: attrs>=22.2.0 in /usr/local/lib/python3.10/dist-packages (from jsonschema>=3.0->altair<6,>=4.0->streamlit) (24.2.0)\n",
            "Requirement already satisfied: jsonschema-specifications>=2023.03.6 in /usr/local/lib/python3.10/dist-packages (from jsonschema>=3.0->altair<6,>=4.0->streamlit) (2024.10.1)\n",
            "Requirement already satisfied: referencing>=0.28.4 in /usr/local/lib/python3.10/dist-packages (from jsonschema>=3.0->altair<6,>=4.0->streamlit) (0.35.1)\n",
            "Requirement already satisfied: rpds-py>=0.7.1 in /usr/local/lib/python3.10/dist-packages (from jsonschema>=3.0->altair<6,>=4.0->streamlit) (0.20.0)\n",
            "Requirement already satisfied: mdurl~=0.1 in /usr/local/lib/python3.10/dist-packages (from markdown-it-py>=2.2.0->rich<14,>=10.14.0->streamlit) (0.1.2)\n",
            "Requirement already satisfied: six>=1.5 in /usr/local/lib/python3.10/dist-packages (from python-dateutil>=2.8.2->pandas<3,>=1.4.0->streamlit) (1.16.0)\n"
          ]
        }
      ]
    }
  ]
}