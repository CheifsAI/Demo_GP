{
 "cells": [
  {
   "cell_type": "code",
   "execution_count": 1,
   "metadata": {},
   "outputs": [],
   "source": [
    "from langchain.llms import Ollama"
   ]
  },
  {
   "cell_type": "code",
   "execution_count": 2,
   "metadata": {},
   "outputs": [
    {
     "name": "stderr",
     "output_type": "stream",
     "text": [
      "C:\\Users\\hasso\\AppData\\Local\\Temp\\ipykernel_34692\\1421045254.py:1: LangChainDeprecationWarning: The class `Ollama` was deprecated in LangChain 0.3.1 and will be removed in 1.0.0. An updated version of the class exists in the :class:`~langchain-ollama package and should be used instead. To use it run `pip install -U :class:`~langchain-ollama` and import as `from :class:`~langchain_ollama import OllamaLLM``.\n",
      "  llm = Ollama(model=\"llama3.1:8b\")\n"
     ]
    }
   ],
   "source": [
    "llm = Ollama(model=\"llama3.1:8b\")"
   ]
  },
  {
   "cell_type": "code",
   "execution_count": null,
   "metadata": {},
   "outputs": [
    {
     "name": "stdout",
     "output_type": "stream",
     "text": [
      "Germany won the FIFA World Cup in 2014. They defeated Argentina 1-0 in the final, with Mario Götze scoring the winning goal in extra time. This was Germany's fourth World Cup title. The match took place on July 13, 2014, at the Maracanã Stadium in Rio de Janeiro, Brazil.\n"
     ]
    }
   ],
   "source": [
    "prompt = \"Who won FIFA worldcup 2014\"\n",
    "\n",
    "response = llm.invoke(prompt)\n",
    "\n",
    "print(response)"
   ]
  },
  {
   "cell_type": "code",
   "execution_count": 2,
   "metadata": {},
   "outputs": [],
   "source": [
    "import pandas as pd\n",
    "\n",
    "worldcup = pd.read_csv(r\"WorldCupMatches.csv\")"
   ]
  },
  {
   "cell_type": "code",
   "execution_count": 14,
   "metadata": {},
   "outputs": [
    {
     "data": {
      "text/html": [
       "<div>\n",
       "<style scoped>\n",
       "    .dataframe tbody tr th:only-of-type {\n",
       "        vertical-align: middle;\n",
       "    }\n",
       "\n",
       "    .dataframe tbody tr th {\n",
       "        vertical-align: top;\n",
       "    }\n",
       "\n",
       "    .dataframe thead th {\n",
       "        text-align: right;\n",
       "    }\n",
       "</style>\n",
       "<table border=\"1\" class=\"dataframe\">\n",
       "  <thead>\n",
       "    <tr style=\"text-align: right;\">\n",
       "      <th></th>\n",
       "      <th>Year</th>\n",
       "      <th>Datetime</th>\n",
       "      <th>Stage</th>\n",
       "      <th>Stadium</th>\n",
       "      <th>City</th>\n",
       "      <th>Home Team Name</th>\n",
       "      <th>Home Team Goals</th>\n",
       "      <th>Away Team Goals</th>\n",
       "      <th>Away Team Name</th>\n",
       "      <th>Win conditions</th>\n",
       "      <th>Attendance</th>\n",
       "      <th>Half-time Home Goals</th>\n",
       "      <th>Half-time Away Goals</th>\n",
       "      <th>Referee</th>\n",
       "      <th>Assistant 1</th>\n",
       "      <th>Assistant 2</th>\n",
       "      <th>RoundID</th>\n",
       "      <th>MatchID</th>\n",
       "      <th>Home Team Initials</th>\n",
       "      <th>Away Team Initials</th>\n",
       "    </tr>\n",
       "  </thead>\n",
       "  <tbody>\n",
       "    <tr>\n",
       "      <th>0</th>\n",
       "      <td>1930.0</td>\n",
       "      <td>13 Jul 1930 - 15:00</td>\n",
       "      <td>Group 1</td>\n",
       "      <td>Pocitos</td>\n",
       "      <td>Montevideo</td>\n",
       "      <td>France</td>\n",
       "      <td>4.0</td>\n",
       "      <td>1.0</td>\n",
       "      <td>Mexico</td>\n",
       "      <td></td>\n",
       "      <td>4444.0</td>\n",
       "      <td>3.0</td>\n",
       "      <td>0.0</td>\n",
       "      <td>LOMBARDI Domingo (URU)</td>\n",
       "      <td>CRISTOPHE Henry (BEL)</td>\n",
       "      <td>REGO Gilberto (BRA)</td>\n",
       "      <td>201.0</td>\n",
       "      <td>1096.0</td>\n",
       "      <td>FRA</td>\n",
       "      <td>MEX</td>\n",
       "    </tr>\n",
       "    <tr>\n",
       "      <th>1</th>\n",
       "      <td>1930.0</td>\n",
       "      <td>13 Jul 1930 - 15:00</td>\n",
       "      <td>Group 4</td>\n",
       "      <td>Parque Central</td>\n",
       "      <td>Montevideo</td>\n",
       "      <td>USA</td>\n",
       "      <td>3.0</td>\n",
       "      <td>0.0</td>\n",
       "      <td>Belgium</td>\n",
       "      <td></td>\n",
       "      <td>18346.0</td>\n",
       "      <td>2.0</td>\n",
       "      <td>0.0</td>\n",
       "      <td>MACIAS Jose (ARG)</td>\n",
       "      <td>MATEUCCI Francisco (URU)</td>\n",
       "      <td>WARNKEN Alberto (CHI)</td>\n",
       "      <td>201.0</td>\n",
       "      <td>1090.0</td>\n",
       "      <td>USA</td>\n",
       "      <td>BEL</td>\n",
       "    </tr>\n",
       "    <tr>\n",
       "      <th>2</th>\n",
       "      <td>1930.0</td>\n",
       "      <td>14 Jul 1930 - 12:45</td>\n",
       "      <td>Group 2</td>\n",
       "      <td>Parque Central</td>\n",
       "      <td>Montevideo</td>\n",
       "      <td>Yugoslavia</td>\n",
       "      <td>2.0</td>\n",
       "      <td>1.0</td>\n",
       "      <td>Brazil</td>\n",
       "      <td></td>\n",
       "      <td>24059.0</td>\n",
       "      <td>2.0</td>\n",
       "      <td>0.0</td>\n",
       "      <td>TEJADA Anibal (URU)</td>\n",
       "      <td>VALLARINO Ricardo (URU)</td>\n",
       "      <td>BALWAY Thomas (FRA)</td>\n",
       "      <td>201.0</td>\n",
       "      <td>1093.0</td>\n",
       "      <td>YUG</td>\n",
       "      <td>BRA</td>\n",
       "    </tr>\n",
       "    <tr>\n",
       "      <th>3</th>\n",
       "      <td>1930.0</td>\n",
       "      <td>14 Jul 1930 - 14:50</td>\n",
       "      <td>Group 3</td>\n",
       "      <td>Pocitos</td>\n",
       "      <td>Montevideo</td>\n",
       "      <td>Romania</td>\n",
       "      <td>3.0</td>\n",
       "      <td>1.0</td>\n",
       "      <td>Peru</td>\n",
       "      <td></td>\n",
       "      <td>2549.0</td>\n",
       "      <td>1.0</td>\n",
       "      <td>0.0</td>\n",
       "      <td>WARNKEN Alberto (CHI)</td>\n",
       "      <td>LANGENUS Jean (BEL)</td>\n",
       "      <td>MATEUCCI Francisco (URU)</td>\n",
       "      <td>201.0</td>\n",
       "      <td>1098.0</td>\n",
       "      <td>ROU</td>\n",
       "      <td>PER</td>\n",
       "    </tr>\n",
       "    <tr>\n",
       "      <th>4</th>\n",
       "      <td>1930.0</td>\n",
       "      <td>15 Jul 1930 - 16:00</td>\n",
       "      <td>Group 1</td>\n",
       "      <td>Parque Central</td>\n",
       "      <td>Montevideo</td>\n",
       "      <td>Argentina</td>\n",
       "      <td>1.0</td>\n",
       "      <td>0.0</td>\n",
       "      <td>France</td>\n",
       "      <td></td>\n",
       "      <td>23409.0</td>\n",
       "      <td>0.0</td>\n",
       "      <td>0.0</td>\n",
       "      <td>REGO Gilberto (BRA)</td>\n",
       "      <td>SAUCEDO Ulises (BOL)</td>\n",
       "      <td>RADULESCU Constantin (ROU)</td>\n",
       "      <td>201.0</td>\n",
       "      <td>1085.0</td>\n",
       "      <td>ARG</td>\n",
       "      <td>FRA</td>\n",
       "    </tr>\n",
       "  </tbody>\n",
       "</table>\n",
       "</div>"
      ],
      "text/plain": [
       "     Year              Datetime    Stage         Stadium         City  \\\n",
       "0  1930.0  13 Jul 1930 - 15:00   Group 1         Pocitos  Montevideo    \n",
       "1  1930.0  13 Jul 1930 - 15:00   Group 4  Parque Central  Montevideo    \n",
       "2  1930.0  14 Jul 1930 - 12:45   Group 2  Parque Central  Montevideo    \n",
       "3  1930.0  14 Jul 1930 - 14:50   Group 3         Pocitos  Montevideo    \n",
       "4  1930.0  15 Jul 1930 - 16:00   Group 1  Parque Central  Montevideo    \n",
       "\n",
       "  Home Team Name  Home Team Goals  Away Team Goals Away Team Name  \\\n",
       "0         France              4.0              1.0         Mexico   \n",
       "1            USA              3.0              0.0        Belgium   \n",
       "2     Yugoslavia              2.0              1.0         Brazil   \n",
       "3        Romania              3.0              1.0           Peru   \n",
       "4      Argentina              1.0              0.0         France   \n",
       "\n",
       "  Win conditions  Attendance  Half-time Home Goals  Half-time Away Goals  \\\n",
       "0                     4444.0                   3.0                   0.0   \n",
       "1                    18346.0                   2.0                   0.0   \n",
       "2                    24059.0                   2.0                   0.0   \n",
       "3                     2549.0                   1.0                   0.0   \n",
       "4                    23409.0                   0.0                   0.0   \n",
       "\n",
       "                  Referee               Assistant 1  \\\n",
       "0  LOMBARDI Domingo (URU)     CRISTOPHE Henry (BEL)   \n",
       "1       MACIAS Jose (ARG)  MATEUCCI Francisco (URU)   \n",
       "2     TEJADA Anibal (URU)   VALLARINO Ricardo (URU)   \n",
       "3   WARNKEN Alberto (CHI)       LANGENUS Jean (BEL)   \n",
       "4     REGO Gilberto (BRA)      SAUCEDO Ulises (BOL)   \n",
       "\n",
       "                  Assistant 2  RoundID  MatchID Home Team Initials  \\\n",
       "0         REGO Gilberto (BRA)    201.0   1096.0                FRA   \n",
       "1       WARNKEN Alberto (CHI)    201.0   1090.0                USA   \n",
       "2         BALWAY Thomas (FRA)    201.0   1093.0                YUG   \n",
       "3    MATEUCCI Francisco (URU)    201.0   1098.0                ROU   \n",
       "4  RADULESCU Constantin (ROU)    201.0   1085.0                ARG   \n",
       "\n",
       "  Away Team Initials  \n",
       "0                MEX  \n",
       "1                BEL  \n",
       "2                BRA  \n",
       "3                PER  \n",
       "4                FRA  "
      ]
     },
     "execution_count": 14,
     "metadata": {},
     "output_type": "execute_result"
    }
   ],
   "source": [
    "worldcup.head()"
   ]
  },
  {
   "cell_type": "code",
   "execution_count": 21,
   "metadata": {},
   "outputs": [],
   "source": [
    "import io\n",
    "buffer = io.StringIO()\n",
    "worldcup.info(buf=buffer)\n",
    "dinf = buffer.getvalue()\n",
    "with open(\"df_info.txt\", \"w\",\n",
    "          encoding=\"utf-8\") as f:  \n",
    "    f.write(dinf)"
   ]
  },
  {
   "cell_type": "code",
   "execution_count": 23,
   "metadata": {},
   "outputs": [
    {
     "name": "stdout",
     "output_type": "stream",
     "text": [
      "<class 'pandas.core.frame.DataFrame'>\n",
      "RangeIndex: 4572 entries, 0 to 4571\n",
      "Data columns (total 20 columns):\n",
      " #   Column                Non-Null Count  Dtype  \n",
      "---  ------                --------------  -----  \n",
      " 0   Year                  852 non-null    float64\n",
      " 1   Datetime              852 non-null    object \n",
      " 2   Stage                 852 non-null    object \n",
      " 3   Stadium               852 non-null    object \n",
      " 4   City                  852 non-null    object \n",
      " 5   Home Team Name        852 non-null    object \n",
      " 6   Home Team Goals       852 non-null    float64\n",
      " 7   Away Team Goals       852 non-null    float64\n",
      " 8   Away Team Name        852 non-null    object \n",
      " 9   Win conditions        852 non-null    object \n",
      " 10  Attendance            850 non-null    float64\n",
      " 11  Half-time Home Goals  852 non-null    float64\n",
      " 12  Half-time Away Goals  852 non-null    float64\n",
      " 13  Referee               852 non-null    object \n",
      " 14  Assistant 1           852 non-null    object \n",
      " 15  Assistant 2           852 non-null    object \n",
      " 16  RoundID               852 non-null    float64\n",
      " 17  MatchID               852 non-null    float64\n",
      " 18  Home Team Initials    852 non-null    object \n",
      " 19  Away Team Initials    852 non-null    object \n",
      "dtypes: float64(8), object(12)\n",
      "memory usage: 714.5+ KB\n",
      "\n"
     ]
    }
   ],
   "source": [
    "print(dinf)"
   ]
  },
  {
   "cell_type": "code",
   "execution_count": 24,
   "metadata": {},
   "outputs": [
    {
     "name": "stdout",
     "output_type": "stream",
     "text": [
      "It looks like you have a Pandas DataFrame with 4572 entries and 20 columns.\n",
      "\n",
      "Here's a brief summary:\n",
      "\n",
      "* The data appears to be related to soccer matches, with columns for things like:\n",
      "\t+ Match details (year, datetime, stage)\n",
      "\t+ Team information (home team name, away team name, etc.)\n",
      "\t+ Goals scored (half-time and full-time)\n",
      "\t+ Referees and assistant referees\n",
      "\t+ Miscellaneous info (attendance, round ID, match ID)\n",
      "* There are 8 float64 columns for numerical data and 12 object columns for categorical or string data.\n",
      "* The memory usage is approximately 714.5 KB.\n",
      "\n",
      "What would you like to do with this DataFrame? Would you like to perform some analysis, create a visualization, or something else?\n"
     ]
    }
   ],
   "source": [
    "response = llm.invoke(dinf)\n",
    "\n",
    "print(response)"
   ]
  },
  {
   "cell_type": "code",
   "execution_count": null,
   "metadata": {},
   "outputs": [],
   "source": [
    "def summerizer (dataframe):\n",
    "    buffer = io.StringIO()\n",
    "    dataframe.info(buf=buffer)\n",
    "    data_info = buffer.getvalue()\n",
    "    with open(\"df_info.txt\", \"w\",\n",
    "            encoding=\"utf-8\") as f:  \n",
    "        f.write(data_info)\n",
    "    summary = llm.invoke(f\"summarize{dinf}\")\n",
    "    return print(summary)"
   ]
  },
  {
   "cell_type": "code",
   "execution_count": 30,
   "metadata": {},
   "outputs": [
    {
     "name": "stdout",
     "output_type": "stream",
     "text": [
      "It looks like you have a Pandas DataFrame with information about soccer matches, containing various data such as the year of the match, home and away teams' names, goals scored, stadiums, cities, referees, and more.\n",
      "\n",
      "Here are some potential insights or questions that could be explored based on this dataset:\n",
      "\n",
      "1. **Home and Away Team Performance**: Analyze the average number of goals scored by home and away teams, including their performance in different stages (e.g., group stage, knockout stage).\n",
      "2. **Referee Bias**: Investigate if there are any differences in refereeing decisions or attendance when certain referees officiate matches.\n",
      "3. **Attendance Analysis**: Examine how attendance varies across different stadiums, cities, or stages of the tournament.\n",
      "4. **Team Strength**: Calculate team strength scores based on their performance (e.g., goals scored, allowed) and analyze their progression through the tournament.\n",
      "5. **Home Advantage**: Investigate whether teams have an advantage playing at home, considering factors like attendance, crowd support, and match outcomes.\n",
      "\n",
      "Some potential Pandas operations to perform on this dataset include:\n",
      "\n",
      "1. `groupby` and aggregation (e.g., averaging, summing) to analyze team performance or match characteristics.\n",
      "2. `merge` with other datasets (if available) for additional insights, such as player stats, team standings, or weather conditions during matches.\n",
      "3. Data visualization using libraries like Matplotlib, Seaborn, or Plotly to create informative and engaging plots for different subsets of the data.\n",
      "\n",
      "What specific analysis or questions would you like to explore with this dataset?\n"
     ]
    }
   ],
   "source": [
    "thesummary=summerizer(worldcup)"
   ]
  },
  {
   "cell_type": "code",
   "execution_count": 32,
   "metadata": {},
   "outputs": [
    {
     "name": "stdout",
     "output_type": "stream",
     "text": [
      "You can use the `dropna()` function in pandas to remove rows with missing values (nulls). Since you want to drop nulls from specific columns, you can pass a subset of column names to the `subset` parameter.\n",
      "\n",
      "Here's how you can do it:\n",
      "\n",
      "```python\n",
      "# Assuming 'worldcup' is your DataFrame\n",
      "\n",
      "# Drop rows where Attendance is null\n",
      "worldcup.dropna(subset=['Attendance'], inplace=True)\n",
      "\n",
      "# Alternatively, drop rows where multiple columns are null\n",
      "null_columns = ['Year', 'Half-time Home Goals']\n",
      "worldcup.dropna(subset=null_columns, inplace=True)\n",
      "```\n",
      "\n",
      "If you want to clear the nulls from all numeric columns (which in your case include `Home Team Goals`, `Away Team Goals`, etc.), you can use a loop:\n",
      "\n",
      "```python\n",
      "# Clear nulls from numeric columns\n",
      "numeric_cols = worldcup.select_dtypes(include=['float64']).columns.tolist()\n",
      "worldcup.dropna(subset=numeric_cols, inplace=True)\n",
      "```\n",
      "\n",
      "Note that the `inplace=True` parameter modifies the original DataFrame. If you want to keep the original DataFrame unchanged, remove this parameter or assign the result back to the original DataFrame (`worldcup = worldcup.dropna(...)`)\n"
     ]
    }
   ],
   "source": [
    "response2 = llm.invoke(f\"{dinf} \\n create a code to clear the nulls from the columns that needs to, knowing the dataframe name is worldcup\")\n",
    "\n",
    "print(response2)"
   ]
  },
  {
   "cell_type": "code",
   "execution_count": 33,
   "metadata": {},
   "outputs": [
    {
     "data": {
      "text/plain": [
       "\"You can use the `dropna()` function in pandas to remove rows with missing values (nulls). Since you want to drop nulls from specific columns, you can pass a subset of column names to the `subset` parameter.\\n\\nHere's how you can do it:\\n\\n```python\\n# Assuming 'worldcup' is your DataFrame\\n\\n# Drop rows where Attendance is null\\nworldcup.dropna(subset=['Attendance'], inplace=True)\\n\\n# Alternatively, drop rows where multiple columns are null\\nnull_columns = ['Year', 'Half-time Home Goals']\\nworldcup.dropna(subset=null_columns, inplace=True)\\n```\\n\\nIf you want to clear the nulls from all numeric columns (which in your case include `Home Team Goals`, `Away Team Goals`, etc.), you can use a loop:\\n\\n```python\\n# Clear nulls from numeric columns\\nnumeric_cols = worldcup.select_dtypes(include=['float64']).columns.tolist()\\nworldcup.dropna(subset=numeric_cols, inplace=True)\\n```\\n\\nNote that the `inplace=True` parameter modifies the original DataFrame. If you want to keep the original DataFrame unchanged, remove this parameter or assign the result back to the original DataFrame (`worldcup = worldcup.dropna(...)`)\""
      ]
     },
     "execution_count": 33,
     "metadata": {},
     "output_type": "execute_result"
    }
   ],
   "source": [
    "response2"
   ]
  },
  {
   "cell_type": "code",
   "execution_count": 52,
   "metadata": {},
   "outputs": [],
   "source": [
    "import re\n",
    "def extract_code(input) :\n",
    "    result = re.search(r'```.*?\\n(.*?)\\n```', input, re.DOTALL)\n",
    "    result = result.group(1) if result else input\n",
    "    return result"
   ]
  },
  {
   "cell_type": "code",
   "execution_count": 56,
   "metadata": {},
   "outputs": [],
   "source": [
    "dropping_nulls_code = extract_code(response2)"
   ]
  },
  {
   "cell_type": "code",
   "execution_count": 57,
   "metadata": {},
   "outputs": [
    {
     "name": "stdout",
     "output_type": "stream",
     "text": [
      "# Assuming 'worldcup' is your DataFrame\n",
      "\n",
      "# Drop rows where Attendance is null\n",
      "worldcup.dropna(subset=['Attendance'], inplace=True)\n",
      "\n",
      "# Alternatively, drop rows where multiple columns are null\n",
      "null_columns = ['Year', 'Half-time Home Goals']\n",
      "worldcup.dropna(subset=null_columns, inplace=True)\n"
     ]
    }
   ],
   "source": [
    "print(dropping_nulls_code)"
   ]
  },
  {
   "cell_type": "code",
   "execution_count": 58,
   "metadata": {},
   "outputs": [],
   "source": [
    "exec(dropping_nulls_code)"
   ]
  },
  {
   "cell_type": "code",
   "execution_count": 59,
   "metadata": {},
   "outputs": [
    {
     "name": "stdout",
     "output_type": "stream",
     "text": [
      "<class 'pandas.core.frame.DataFrame'>\n",
      "Index: 850 entries, 0 to 851\n",
      "Data columns (total 20 columns):\n",
      " #   Column                Non-Null Count  Dtype  \n",
      "---  ------                --------------  -----  \n",
      " 0   Year                  850 non-null    float64\n",
      " 1   Datetime              850 non-null    object \n",
      " 2   Stage                 850 non-null    object \n",
      " 3   Stadium               850 non-null    object \n",
      " 4   City                  850 non-null    object \n",
      " 5   Home Team Name        850 non-null    object \n",
      " 6   Home Team Goals       850 non-null    float64\n",
      " 7   Away Team Goals       850 non-null    float64\n",
      " 8   Away Team Name        850 non-null    object \n",
      " 9   Win conditions        850 non-null    object \n",
      " 10  Attendance            850 non-null    float64\n",
      " 11  Half-time Home Goals  850 non-null    float64\n",
      " 12  Half-time Away Goals  850 non-null    float64\n",
      " 13  Referee               850 non-null    object \n",
      " 14  Assistant 1           850 non-null    object \n",
      " 15  Assistant 2           850 non-null    object \n",
      " 16  RoundID               850 non-null    float64\n",
      " 17  MatchID               850 non-null    float64\n",
      " 18  Home Team Initials    850 non-null    object \n",
      " 19  Away Team Initials    850 non-null    object \n",
      "dtypes: float64(8), object(12)\n",
      "memory usage: 139.5+ KB\n"
     ]
    }
   ],
   "source": [
    "worldcup.info()"
   ]
  },
  {
   "cell_type": "code",
   "execution_count": null,
   "metadata": {},
   "outputs": [],
   "source": [
    "def nulldrop (dataframe):\n",
    "    response2 = llm.invoke(f\"{dinf} \\n create a code to clear the nulls from the columns that needs to, knowing the dataframe name is worldcup\")\n",
    "    def extract_code(input) :\n",
    "        result = re.search(r'```.*?\\n(.*?)\\n```', input, re.DOTALL)\n",
    "        result = result.group(1) if result else input\n",
    "        return result\n",
    "    dropping_nulls_code = extract_code(response2)\n",
    "    exec(dropping_nulls_code)\n",
    "    return print(dataframe.info())"
   ]
  },
  {
   "cell_type": "code",
   "execution_count": null,
   "metadata": {},
   "outputs": [],
   "source": []
  }
 ],
 "metadata": {
  "kernelspec": {
   "display_name": "Python 3",
   "language": "python",
   "name": "python3"
  },
  "language_info": {
   "codemirror_mode": {
    "name": "ipython",
    "version": 3
   },
   "file_extension": ".py",
   "mimetype": "text/x-python",
   "name": "python",
   "nbconvert_exporter": "python",
   "pygments_lexer": "ipython3",
   "version": "3.12.0"
  }
 },
 "nbformat": 4,
 "nbformat_minor": 2
}
